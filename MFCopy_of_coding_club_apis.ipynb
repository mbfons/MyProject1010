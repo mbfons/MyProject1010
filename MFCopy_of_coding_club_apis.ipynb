{
  "nbformat": 4,
  "nbformat_minor": 0,
  "metadata": {
    "language_info": {
      "codemirror_mode": {
        "name": "ipython",
        "version": 3
      },
      "file_extension": ".py",
      "mimetype": "text/x-python",
      "name": "python",
      "nbconvert_exporter": "python",
      "pygments_lexer": "ipython3",
      "version": "3.8.2"
    },
    "orig_nbformat": 2,
    "kernelspec": {
      "name": "python382jvsc74a57bd031f2aee4e71d21fbe5cf8b01ff0e069b9275f58929596ceb00d14d90e3e16cd6",
      "display_name": "Python 3.8.2 64-bit"
    },
    "metadata": {
      "interpreter": {
        "hash": "31f2aee4e71d21fbe5cf8b01ff0e069b9275f58929596ceb00d14d90e3e16cd6"
      }
    },
    "colab": {
      "name": "MFCopy of coding_club_apis.ipynb",
      "provenance": [],
      "toc_visible": true,
      "include_colab_link": true
    }
  },
  "cells": [
    {
      "cell_type": "markdown",
      "metadata": {
        "id": "view-in-github",
        "colab_type": "text"
      },
      "source": [
        "<a href=\"https://colab.research.google.com/github/mbfons/MyProject1010/blob/master/MFCopy_of_coding_club_apis.ipynb\" target=\"_parent\"><img src=\"https://colab.research.google.com/assets/colab-badge.svg\" alt=\"Open In Colab\"/></a>"
      ]
    },
    {
      "cell_type": "markdown",
      "metadata": {
        "id": "ieuYQSxt81Pk"
      },
      "source": [
        "# The NHSX Analytics Unit introduction to Python Session 3\n",
        "\n",
        "---\n",
        "\n",
        "This article was very useful and recommended - https://realpython.com/python-api/"
      ]
    },
    {
      "cell_type": "markdown",
      "metadata": {
        "id": "t4INx0Hl81Pq"
      },
      "source": [
        "Application Programming Interface (APIs) allow different systems to exchange (send or recieve) data. This could be used to automatically update a record/database or to send a data extract.\n",
        "\n",
        "Currently, APIs are mostly used in software/app development to pass data and messages smoothly.  They also allow granular access to many large databases for analytical exploration.  However, in my experience these are often databases that are well managed and accessible already so often the API work loses potency from actual application after training.   This shouldn't deter us as API usage and being a standard way of accessing data is on the rise across government and in the NHS.  In paricular, NHSX should be leading on the call for more accessible data through APIs and so understanding how to build and use these is important.  \n",
        "\n",
        "## Example well-known APIs\n",
        "\n",
        "APIs are all around us but often hidden away doing the legwork to make smooth data flows e.g. weather apps on your phone, paypal, and loggin through google all use APIs.\n",
        "\n",
        "![Commonly used APIs](https://github.com/nhs-pycom/coding-club-apis/blob/main/images/commonUses.png?raw=1)\n",
        "\n",
        "Take a look at:\n",
        "\n",
        "- https://any-api.com/\n",
        "- https://github.com/public-apis/public-apis (note: US focussed)\n",
        "\n",
        "**Top 50 most used APIs** *(accoriding to rapidaPIs.com in April 2021)*\n",
        "\n",
        "Many of these enable websites and apps to quickly updated to latest information based on a search criteria or location (excet #13)\n",
        "\n",
        "1. Skyscanner Flight Search\n",
        "\n",
        "2. Open Weather Map\n",
        "\n",
        "3. API-FOOTBALL\n",
        "\n",
        "4. The Cocktail DB\n",
        "\n",
        "5. REST Countries v1\n",
        "\n",
        "6. Yahoo Finance\n",
        "\n",
        "7. Love Calculator\n",
        "\n",
        "8. URL Shortener Service\n",
        "\n",
        "9. NasaAPI\n",
        "\n",
        "10. Numbers\n",
        "\n",
        "11. musiXmatch\n",
        "\n",
        "12. SYSTRAN.io – Translation and NLP\n",
        "\n",
        "13. Chuck Norris\n",
        "\n",
        "14. Hearthstone\n",
        "\n",
        "15. Currency Exchange\n",
        "\n",
        "16. Breaking News\n",
        "\n",
        "17. Booking\n",
        "\n",
        "18. Free NBA\n",
        "\n",
        "19. Deezer\n",
        "\n",
        "20. Email Validator\n",
        "\n",
        "21. Urban Dictionary\n",
        "\n",
        "22. Pokemon Go\n",
        "\n",
        "23. Recipe – Food – Nutrition\n",
        "\n",
        "24. Investors Exchange (IEX) Trading\n",
        "\n",
        "25. Movie Database (IMDB Alternative)\n",
        "\n",
        "\n",
        "** Healthcare APIs **\n",
        "\n",
        "The lists I found on whilst searching github and google are mainly US based.  NHS Digitial has a range of APIs available listed here: https://digital.nhs.uk/developer/api-catalogue.  Many of these are to do with passing secure records between services and the security around these.  \n"
      ]
    },
    {
      "cell_type": "markdown",
      "metadata": {
        "id": "7NJIo2t081Pr"
      },
      "source": [
        "## Types of API \n",
        "\n",
        "There are four common;y used API types:\n",
        "\n",
        "- Open/External/Public: Can be either completely open or require an API key\n",
        "- Internal: Hidden from external uses\n",
        "- Partner: Similar to Open APIs but use a third-party API gateway to manage access\n",
        "- Composite: Access to several end points at once (useful for dev)\n",
        "\n",
        "There are three standat sets of rules (Protocls) commonly used:\n",
        "\n",
        "- REST\n",
        "- RPC\n",
        "- SOAP\n",
        "- GraphQL (created by facebook)\n",
        "See here for more info: https://apifriends.com/api-creation/different-types-apis/ & https://www.altexsoft.com/blog/soap-vs-rest-vs-graphql-vs-rpc/\n",
        "\n",
        "Today we will focus on REST APIs"
      ]
    },
    {
      "cell_type": "markdown",
      "metadata": {
        "id": "AOl3RJJB81Ps"
      },
      "source": [
        "### REST API - Terminology\n",
        "\n",
        "![Terminology](https://github.com/nhs-pycom/coding-club-apis/blob/main/images/terminology.png?raw=1)\n",
        "\n",
        "The API itself defines accessible endpoints and valid request and response formats"
      ]
    },
    {
      "cell_type": "markdown",
      "metadata": {
        "id": "kyvmOtA481Ps"
      },
      "source": [
        "### REST API Commands\n",
        "\n",
        "- POST - Create\n",
        "- GET - Read\n",
        "- PUT - Update\n",
        "- DELETE - DELETE\n",
        "\n",
        "*note: There are others not covered here*"
      ]
    },
    {
      "cell_type": "markdown",
      "metadata": {
        "id": "4zmfuik381Ps"
      },
      "source": [
        "## Benefits of APIs\n",
        "\n",
        "- Security for underlying database\n",
        "- Consistency of output\n",
        "- Separate frontend fram backend allows for interoperability\n",
        "- Development without disruption or releases\n",
        "\n",
        "https://www.england.nhs.uk/publication/open-api-architecture-policy/\n",
        "\n",
        "### Side note on http vs https\n",
        "Whilst most endpoints are https some are still http.  Note that https is the encrypted version for http communication.  Never send any sensitive or work data over a http connection."
      ]
    },
    {
      "cell_type": "markdown",
      "metadata": {
        "id": "H-nxDk2R81Ps"
      },
      "source": [
        "## JSON format\n",
        "\n",
        "The response most commonly comes in java script object notation (JSON).  This is a hierarchical list of key-value pairs similar to a Python dictionary.\n",
        "\n"
      ]
    },
    {
      "cell_type": "code",
      "metadata": {
        "id": "hrGnenD481Pt"
      },
      "source": [
        "#Example JSON layout\n",
        " \n",
        "# {\n",
        "#     \"firstName\": \"Duke\",\n",
        "#     \"lastnName\": \"Java\",\n",
        "#     \"age\": 18,\n",
        "#     \"streetAddress\": \"100 Internet Dr\",\n",
        "#     \"city\": :\"JavaTown\",\n",
        "#     \"state\": \"JA\",\n",
        "#     \"postalCode\": \"12345\",\n",
        "#     \"phoneNumbers\": [\n",
        "#         { \"Mobile\": \"111-111-1111\" },\n",
        "#         {\"Home\": \"222-222-2222\" }\n",
        "#     ]\n",
        "# }"
      ],
      "execution_count": null,
      "outputs": []
    },
    {
      "cell_type": "markdown",
      "metadata": {
        "id": "ksDcZFQz81Pt"
      },
      "source": [
        "- An set of key-value pairs is called an object.\n",
        "\n",
        "- Within an object one key can have an array of sub key-values pairs.\n",
        "\n",
        "    - {} enclose objects\n",
        "    - , separate pairs within an object \n",
        "    - : separating keys and values\n",
        "    - [] enclose arrays\n",
        "\n",
        "- Objects can contain arrays which in turn can contain further objects or arrays and so on.  This means that we can end up with fairly complex tree structures. \n"
      ]
    },
    {
      "cell_type": "markdown",
      "metadata": {
        "id": "AEsA3UxqrEBa"
      },
      "source": [
        "# Practical\n",
        "\n",
        "\n",
        "Steps: \n",
        "\n",
        "- Choose the API to work with\n",
        "- Read the API documentation (this takes the most time)\n",
        "- Start with small code, and complement it with more features.\n",
        "\n",
        "Using the Python request package the code required is minimal (especially compared to other languages such as java).  We will also beed to import json and pprint to view the responses in a readable format. "
      ]
    },
    {
      "cell_type": "code",
      "metadata": {
        "id": "LCwtWKXxvk28",
        "colab": {
          "base_uri": "https://localhost:8080/",
          "height": 367
        },
        "outputId": "185eeb4b-4e9c-4398-8857-046e101908d5"
      },
      "source": [
        "import requests\n",
        "## Alternatives to requests:\n",
        "# import urllib \n",
        "# import pycurl\n",
        "# import postman\n",
        "import json\n",
        "import pprint\n",
        "import pandas as pd\n",
        "#!pip install xmltodict\n",
        "import xmltodict\n",
        "from xml.etree import ElementTree\n",
        "#!pip install pubmed\n",
        "from pymed import PubMed"
      ],
      "execution_count": 3,
      "outputs": [
        {
          "output_type": "error",
          "ename": "ModuleNotFoundError",
          "evalue": "ignored",
          "traceback": [
            "\u001b[0;31m---------------------------------------------------------------------------\u001b[0m",
            "\u001b[0;31mModuleNotFoundError\u001b[0m                       Traceback (most recent call last)",
            "\u001b[0;32m<ipython-input-3-480383a4b487>\u001b[0m in \u001b[0;36m<module>\u001b[0;34m()\u001b[0m\n\u001b[1;32m      8\u001b[0m \u001b[0;32mimport\u001b[0m \u001b[0mpandas\u001b[0m \u001b[0;32mas\u001b[0m \u001b[0mpd\u001b[0m\u001b[0;34m\u001b[0m\u001b[0;34m\u001b[0m\u001b[0m\n\u001b[1;32m      9\u001b[0m \u001b[0;31m#!pip install xmltodict\u001b[0m\u001b[0;34m\u001b[0m\u001b[0;34m\u001b[0m\u001b[0;34m\u001b[0m\u001b[0m\n\u001b[0;32m---> 10\u001b[0;31m \u001b[0;32mimport\u001b[0m \u001b[0mxmltodict\u001b[0m\u001b[0;34m\u001b[0m\u001b[0;34m\u001b[0m\u001b[0m\n\u001b[0m\u001b[1;32m     11\u001b[0m \u001b[0;32mfrom\u001b[0m \u001b[0mxml\u001b[0m\u001b[0;34m.\u001b[0m\u001b[0metree\u001b[0m \u001b[0;32mimport\u001b[0m \u001b[0mElementTree\u001b[0m\u001b[0;34m\u001b[0m\u001b[0;34m\u001b[0m\u001b[0m\n\u001b[1;32m     12\u001b[0m \u001b[0;31m#!pip install pubmed\u001b[0m\u001b[0;34m\u001b[0m\u001b[0;34m\u001b[0m\u001b[0;34m\u001b[0m\u001b[0m\n",
            "\u001b[0;31mModuleNotFoundError\u001b[0m: No module named 'xmltodict'",
            "",
            "\u001b[0;31m---------------------------------------------------------------------------\u001b[0;32m\nNOTE: If your import is failing due to a missing package, you can\nmanually install dependencies using either !pip or !apt.\n\nTo view examples of installing some common dependencies, click the\n\"Open Examples\" button below.\n\u001b[0;31m---------------------------------------------------------------------------\u001b[0m\n"
          ]
        }
      ]
    },
    {
      "cell_type": "code",
      "metadata": {
        "id": "6eLY27kJR9Tt"
      },
      "source": [
        ""
      ],
      "execution_count": null,
      "outputs": []
    },
    {
      "cell_type": "markdown",
      "metadata": {
        "id": "hVQlvgryvL8p"
      },
      "source": [
        "## Task 1: Find the ISS and who is currently in it\n",
        "*from https://medium.com/quick-code/absolute-beginners-guide-to-slaying-apis-using-python-7b380dc82236*"
      ]
    },
    {
      "cell_type": "code",
      "metadata": {
        "id": "HHefhSEDvTFF",
        "colab": {
          "base_uri": "https://localhost:8080/"
        },
        "outputId": "b1bcd80c-c687-489e-e642-3e5a19e3e064"
      },
      "source": [
        "request = requests.get('http://api.open-notify.org/iss-now.json')\n",
        "print(request.status_code)"
      ],
      "execution_count": null,
      "outputs": [
        {
          "output_type": "stream",
          "text": [
            "200\n"
          ],
          "name": "stdout"
        }
      ]
    },
    {
      "cell_type": "markdown",
      "metadata": {
        "id": "2XbIwRSBw5J2"
      },
      "source": [
        "If a request returns a status code 200 then everything is OK, if it returns 404 then the page or resource was not found.\n",
        "\n",
        "**Status code**\n",
        "- 200 \"OK\"\tYour request was successful!\n",
        "- 201 \"Created\"\tYour request was accepted and the resource was created.\n",
        "- 400 \"Bad Request\"\tYour request is either wrong or missing some information.\n",
        "- 401 \"Unauthorized\"\tYour request requires some additional permissions.\n",
        "- 404 \"Not Found\"\tThe requested resource does not exist.\n",
        "- 405 \"Method Not Allowed\"\tThe endpoint does not allow for that specific HTTP method.\n",
        "- 500 \"Internal Server Error\"\tYour request wasn’t expected and probably broke something on the server side.\n",
        "\n",
        "To see the content which has been returned:"
      ]
    },
    {
      "cell_type": "code",
      "metadata": {
        "id": "z9dvIG9bw6yG",
        "colab": {
          "base_uri": "https://localhost:8080/"
        },
        "outputId": "332a907f-490e-45a0-936b-ee645acfd596"
      },
      "source": [
        "print(request.text)"
      ],
      "execution_count": null,
      "outputs": [
        {
          "output_type": "stream",
          "text": [
            "{\"message\": \"success\", \"timestamp\": 1620309160, \"iss_position\": {\"longitude\": \"-26.7771\", \"latitude\": \"-37.5550\"}}\n"
          ],
          "name": "stdout"
        }
      ]
    },
    {
      "cell_type": "code",
      "metadata": {
        "id": "XvBzNNvhyNNz",
        "colab": {
          "base_uri": "https://localhost:8080/"
        },
        "outputId": "81ace6cc-3471-4ab4-df88-f9f69cf9f03b"
      },
      "source": [
        "print(request.json())"
      ],
      "execution_count": null,
      "outputs": [
        {
          "output_type": "stream",
          "text": [
            "{'message': 'success', 'timestamp': 1620309160, 'iss_position': {'longitude': '-26.7771', 'latitude': '-37.5550'}}\n"
          ],
          "name": "stdout"
        }
      ]
    },
    {
      "cell_type": "markdown",
      "metadata": {
        "id": "yS6aWcA1xyHh"
      },
      "source": [
        "To get the latitude and longitude only we can filter by \"iss_position"
      ]
    },
    {
      "cell_type": "code",
      "metadata": {
        "id": "lK3uIstjx46N",
        "colab": {
          "base_uri": "https://localhost:8080/"
        },
        "outputId": "e3073dae-4dfc-4f31-9808-2fdb2e3d51f3"
      },
      "source": [
        "print(request.json()['iss_position'])"
      ],
      "execution_count": null,
      "outputs": [
        {
          "output_type": "stream",
          "text": [
            "{'longitude': '-26.7771', 'latitude': '-37.5550'}\n"
          ],
          "name": "stdout"
        }
      ]
    },
    {
      "cell_type": "markdown",
      "metadata": {
        "id": "sB5VuBHhywrw"
      },
      "source": [
        "If we wanted we could now combine this with a geocoding API to give a map view.  I haven't done this here as it requires an API key but this is publicaly available if you want a go as a learning exercise. \n",
        "\n",
        "For the moment take a look at the documentation here: http://open-notify.org/Open-Notify-API/People-In-Space/ and spend **5-10 mins** trying to work out who is on the ISS right now."
      ]
    },
    {
      "cell_type": "code",
      "metadata": {
        "id": "DGEH51tHzT_3",
        "colab": {
          "base_uri": "https://localhost:8080/"
        },
        "outputId": "3a9bb8f7-1ba0-43b2-9444-15a89bccc1a3"
      },
      "source": [
        "#CODE IN HERE\n",
        "request_names = requests.get('http://api.open-notify.org/astros.json')\n",
        "print(request_names.status_code)\n",
        "\n"
      ],
      "execution_count": null,
      "outputs": [
        {
          "output_type": "stream",
          "text": [
            "200\n"
          ],
          "name": "stdout"
        }
      ]
    },
    {
      "cell_type": "code",
      "metadata": {
        "colab": {
          "base_uri": "https://localhost:8080/"
        },
        "id": "5pe4gL_f_F9s",
        "outputId": "5e582110-b5a5-416a-f915-6e4c3aa73acd"
      },
      "source": [
        "print(request_names.json())"
      ],
      "execution_count": null,
      "outputs": [
        {
          "output_type": "stream",
          "text": [
            "{'number': 7, 'message': 'success', 'people': [{'name': 'Mark Vande Hei', 'craft': 'ISS'}, {'name': 'Oleg Novitskiy', 'craft': 'ISS'}, {'name': 'Pyotr Dubrov', 'craft': 'ISS'}, {'name': 'Thomas Pesquet', 'craft': 'ISS'}, {'name': 'Megan McArthur', 'craft': 'ISS'}, {'name': 'Shane Kimbrough', 'craft': 'ISS'}, {'name': 'Akihiko Hoshide', 'craft': 'ISS'}]}\n"
          ],
          "name": "stdout"
        }
      ]
    },
    {
      "cell_type": "code",
      "metadata": {
        "colab": {
          "base_uri": "https://localhost:8080/"
        },
        "id": "H3R3Mvh7-tvY",
        "outputId": "4fd84db3-1357-40b3-ab8b-569a5acff312"
      },
      "source": [
        "print(request_names.json()['people'])"
      ],
      "execution_count": null,
      "outputs": [
        {
          "output_type": "stream",
          "text": [
            "[{'name': 'Mark Vande Hei', 'craft': 'ISS'}, {'name': 'Oleg Novitskiy', 'craft': 'ISS'}, {'name': 'Pyotr Dubrov', 'craft': 'ISS'}, {'name': 'Thomas Pesquet', 'craft': 'ISS'}, {'name': 'Megan McArthur', 'craft': 'ISS'}, {'name': 'Shane Kimbrough', 'craft': 'ISS'}, {'name': 'Akihiko Hoshide', 'craft': 'ISS'}]\n"
          ],
          "name": "stdout"
        }
      ]
    },
    {
      "cell_type": "markdown",
      "metadata": {
        "id": "vfVp-h-BSM--"
      },
      "source": [
        "NASA has some great APIs for instance one which allows the astronomoy picture of the day or Mars rover public images to be requested.  Again these need a free sign-in to get a key before use - https://api.nasa.gov/"
      ]
    },
    {
      "cell_type": "markdown",
      "metadata": {
        "id": "wSNSEIOo81Pu"
      },
      "source": [
        "## Task 2: Search Stackoverflow Questions\n",
        "\n",
        "Lets try a slightly more complicated request now.  This time we will use the API provided by stackoverflow to find relevent questions\n",
        "\n",
        "The API documentation can be found here: https://api.stackexchange.com/docs\n",
        "\n",
        "This time when making the request we want the response to be sorted to our preference and perhaps with specific search criteria.  This can be done through the url in order to reduce the amount of data being requested.  \n",
        "\n",
        "The format for this is the same as for any url search that you may see (for instance when using a google search or scanning through a clickbait article)"
      ]
    },
    {
      "cell_type": "code",
      "metadata": {
        "id": "W4vWsrzy81Pu",
        "colab": {
          "base_uri": "https://localhost:8080/"
        },
        "outputId": "ffd68d9e-0e32-44ea-80b0-4d0512936a15"
      },
      "source": [
        "url = 'http://api.stackexchange.com/2.2/questions?order=desc&sort=activity&site=stackoverflow'\n",
        "response = requests.get(url)\n",
        "print(response.status_code)"
      ],
      "execution_count": null,
      "outputs": [
        {
          "output_type": "stream",
          "text": [
            "200\n"
          ],
          "name": "stdout"
        }
      ]
    },
    {
      "cell_type": "markdown",
      "metadata": {
        "id": "xv91_2VpQznR"
      },
      "source": [
        "IT can be useful at times to see the headers of an API request or response.  The headers define a few parameters for what's accepted by the API.  Here we see that the server will only respond to json content, some details around content length and encoding, and lots of other bits and bobs. "
      ]
    },
    {
      "cell_type": "code",
      "metadata": {
        "id": "blU3iPM8QuHO",
        "colab": {
          "base_uri": "https://localhost:8080/"
        },
        "outputId": "04160c04-3ca5-42cc-fb28-01377353ca58"
      },
      "source": [
        "print(response.headers)"
      ],
      "execution_count": null,
      "outputs": [
        {
          "output_type": "stream",
          "text": [
            "{'cache-control': 'private', 'content-length': '5313', 'content-type': 'application/json; charset=utf-8', 'content-encoding': 'gzip', 'strict-transport-security': 'max-age=15552000', 'access-control-allow-origin': '*', 'access-control-allow-methods': 'GET, POST', 'access-control-allow-credentials': 'false', 'x-content-type-options': 'nosniff', 'x-request-guid': '24cedb39-d330-4fce-9b6e-d2040a87ce58', 'content-security-policy': \"upgrade-insecure-requests; frame-ancestors 'self' https://stackexchange.com\", 'date': 'Thu, 06 May 2021 14:08:17 GMT'}\n"
          ],
          "name": "stdout"
        }
      ]
    },
    {
      "cell_type": "markdown",
      "metadata": {
        "id": "N1nyNkxdEMEl"
      },
      "source": [
        "A better way to set up the request is to separate the parameters from the URL so they can be easily changed by a user (e.g. through a GUI)"
      ]
    },
    {
      "cell_type": "code",
      "metadata": {
        "id": "4i2tYdAkEFDW",
        "colab": {
          "base_uri": "https://localhost:8080/"
        },
        "outputId": "310d06f7-d695-44c2-c0e9-50d909088e10"
      },
      "source": [
        "url2 = 'http://api.stackexchange.com/2.2/questions'\n",
        "\n",
        "parameters = {\n",
        "    'order':'desc',\n",
        "    'sort':'activity',\n",
        "    'site':'stackoverflow',\n",
        "}\n",
        "\n",
        "response = requests.get(url2, params=parameters)\n",
        "print(response.status_code)"
      ],
      "execution_count": null,
      "outputs": [
        {
          "output_type": "stream",
          "text": [
            "200\n"
          ],
          "name": "stdout"
        }
      ]
    },
    {
      "cell_type": "markdown",
      "metadata": {
        "id": "Jla3YztLGPKo"
      },
      "source": [
        "This should be the same result which you can check if you want!\n",
        "\n",
        "We now want to print out the response and find questions of interest."
      ]
    },
    {
      "cell_type": "code",
      "metadata": {
        "id": "cNojSxpo81Pv",
        "colab": {
          "base_uri": "https://localhost:8080/"
        },
        "outputId": "ef2e6bf1-b0bb-43f5-e6b2-ec4f3a160c3c"
      },
      "source": [
        "print(response.json()['items'])"
      ],
      "execution_count": null,
      "outputs": [
        {
          "output_type": "stream",
          "text": [
            "[{'tags': ['sql', 'sql-server'], 'owner': {'reputation': 1, 'user_id': 15853751, 'user_type': 'registered', 'profile_image': 'https://www.gravatar.com/avatar/de668bfc5e171ee9a35cbb2e11ae8c99?s=128&d=identicon&r=PG&f=1', 'display_name': 'Andreasx23', 'link': 'https://stackoverflow.com/users/15853751/andreasx23'}, 'is_answered': False, 'view_count': 14, 'answer_count': 0, 'score': -1, 'last_activity_date': 1620310148, 'creation_date': 1620309439, 'last_edit_date': 1620310148, 'question_id': 67419641, 'content_license': 'CC BY-SA 4.0', 'link': 'https://stackoverflow.com/questions/67419641/select-userid-and-sum-of-total-amount-of-books-a-user-has-made-on-all-loans', 'title': 'Select userid and sum of total amount of books a user has made on all loans'}, {'tags': ['python', 'django', 'csv'], 'owner': {'reputation': 1, 'user_id': 15853468, 'user_type': 'registered', 'profile_image': 'https://www.gravatar.com/avatar/2968f0b6bd965209ad8d6a458c140eef?s=128&d=identicon&r=PG&f=1', 'display_name': 'alphaomega', 'link': 'https://stackoverflow.com/users/15853468/alphaomega'}, 'is_answered': False, 'view_count': 14, 'answer_count': 1, 'score': 0, 'last_activity_date': 1620310148, 'creation_date': 1620307205, 'question_id': 67419009, 'content_license': 'CC BY-SA 4.0', 'link': 'https://stackoverflow.com/questions/67419009/converting-csv-string-data-into-datefield-type-in-django-models-py', 'title': 'Converting .csv string data into DateField type in Django models.py'}, {'tags': ['java', 'apache-kafka-streams'], 'owner': {'reputation': 1, 'user_id': 15281005, 'user_type': 'registered', 'profile_image': 'https://www.gravatar.com/avatar/bdec5998dc652aaeae079321fedd73cb?s=128&d=identicon&r=PG&f=1', 'display_name': 'Sahana T S', 'link': 'https://stackoverflow.com/users/15281005/sahana-t-s'}, 'is_answered': False, 'view_count': 12, 'closed_date': 1620304398, 'answer_count': 0, 'score': -2, 'last_activity_date': 1620310147, 'creation_date': 1620303731, 'last_edit_date': 1620310147, 'question_id': 67418032, 'link': 'https://stackoverflow.com/questions/67418032/creating-monthwise-windowing-in-kstreams', 'closed_reason': 'Needs more focus', 'title': 'Creating monthwise windowing in KStreams'}, {'tags': ['c++', 'qt', 'dll', 'interface', 'shared-libraries'], 'owner': {'reputation': 11, 'user_id': 9006726, 'user_type': 'registered', 'profile_image': 'https://www.gravatar.com/avatar/d8bc7e36727e0d52c5a9f55b766d7f9a?s=128&d=identicon&r=PG&f=1', 'display_name': 'Roberto Garcia', 'link': 'https://stackoverflow.com/users/9006726/roberto-garcia'}, 'is_answered': False, 'view_count': 2, 'answer_count': 0, 'score': 0, 'last_activity_date': 1620310146, 'creation_date': 1620310146, 'question_id': 67419850, 'content_license': 'CC BY-SA 4.0', 'link': 'https://stackoverflow.com/questions/67419850/how-to-use-your-own-dll-with-a-derived-class-with-params-for-beginners', 'title': 'how to use your own DLL with a derived class with params for beginners'}, {'tags': ['regex', 'url'], 'owner': {'reputation': 385, 'user_id': 1752757, 'user_type': 'registered', 'accept_rate': 50, 'profile_image': 'https://www.gravatar.com/avatar/31a8b4d80fdb3593c131e76606102982?s=128&d=identicon&r=PG', 'display_name': 'chenny', 'link': 'https://stackoverflow.com/users/1752757/chenny'}, 'is_answered': False, 'view_count': 12, 'answer_count': 0, 'score': 0, 'last_activity_date': 1620310145, 'creation_date': 1620309046, 'last_edit_date': 1620310145, 'question_id': 67419525, 'content_license': 'CC BY-SA 4.0', 'link': 'https://stackoverflow.com/questions/67419525/regex-to-match-only-first-route-param-number', 'title': 'Regex to match only first route param number'}, {'tags': ['ios', 'swift', 'function', 'infinite-loop', 'variable-declaration'], 'owner': {'reputation': 1, 'user_id': 15853493, 'user_type': 'registered', 'profile_image': 'https://www.gravatar.com/avatar/3fdf674188547166b1adf887b48c6317?s=128&d=identicon&r=PG&f=1', 'display_name': 'Boting Wang', 'link': 'https://stackoverflow.com/users/15853493/boting-wang'}, 'is_answered': False, 'view_count': 1, 'answer_count': 0, 'score': 0, 'last_activity_date': 1620310143, 'creation_date': 1620310143, 'question_id': 67419849, 'content_license': 'CC BY-SA 4.0', 'link': 'https://stackoverflow.com/questions/67419849/swift-causing-an-infinite-loop-while-declaring-a-variable-outside-the-function', 'title': 'Swift - causing an infinite loop while declaring a variable outside the function'}, {'tags': ['c#', 'asp.net'], 'owner': {'reputation': 1328, 'user_id': 965064, 'user_type': 'registered', 'accept_rate': 59, 'profile_image': 'https://www.gravatar.com/avatar/32f2d045eef67b1ccda386e963c06497?s=128&d=identicon&r=PG', 'display_name': 'James Andrew Smith', 'link': 'https://stackoverflow.com/users/965064/james-andrew-smith'}, 'is_answered': True, 'view_count': 4676, 'accepted_answer_id': 12566932, 'answer_count': 4, 'score': 1, 'last_activity_date': 1620310140, 'creation_date': 1348495321, 'last_edit_date': 1620278892, 'question_id': 12566639, 'content_license': 'CC BY-SA 4.0', 'link': 'https://stackoverflow.com/questions/12566639/product-class-design', 'title': 'Product Class Design'}, {'tags': ['amazon-web-services', 'bots', 'virtual-machine', 'robotframework'], 'owner': {'reputation': 1, 'user_id': 15847694, 'user_type': 'registered', 'profile_image': 'https://www.gravatar.com/avatar/ef46cf47934f15f5d7196649bc454f2c?s=128&d=identicon&r=PG&f=1', 'display_name': 'wrodriguez', 'link': 'https://stackoverflow.com/users/15847694/wrodriguez'}, 'is_answered': False, 'view_count': 7, 'answer_count': 1, 'score': -1, 'last_activity_date': 1620310138, 'creation_date': 1620259489, 'question_id': 67410239, 'content_license': 'CC BY-SA 4.0', 'link': 'https://stackoverflow.com/questions/67410239/how-can-i-run-a-robot-file-in-aws-or-a-cloud-to-make-triggers-for-a-bot', 'title': 'How can I run a .robot file in AWS or a cloud to make triggers for a bot?'}, {'tags': ['web-scraping', 'purrr', 'rvest', 'tibble', 'xml2'], 'owner': {'reputation': 127, 'user_id': 8947723, 'user_type': 'registered', 'profile_image': 'https://www.gravatar.com/avatar/711ea8fb8505b7218ae3facb2705c363?s=128&d=identicon&r=PG&f=1', 'display_name': 'Vknkmpkt', 'link': 'https://stackoverflow.com/users/8947723/vknkmpkt'}, 'is_answered': False, 'view_count': 2, 'answer_count': 0, 'score': 0, 'last_activity_date': 1620310134, 'creation_date': 1620310134, 'question_id': 67419847, 'content_license': 'CC BY-SA 4.0', 'link': 'https://stackoverflow.com/questions/67419847/how-do-i-put-xml-nodesets-created-with-rvest-into-a-tibble-using-purrrs-map-f', 'title': 'How do I put xml-nodesets (created with rvest) into a tibble using purrr&#39;s map-function in R?'}, {'tags': ['graphql', 'aws-appsync'], 'owner': {'reputation': 197, 'user_id': 1651574, 'user_type': 'registered', 'profile_image': 'https://www.gravatar.com/avatar/ed9ac1bfdf856edab3d377ab0f26425c?s=128&d=identicon&r=PG', 'display_name': 'Kamahl', 'link': 'https://stackoverflow.com/users/1651574/kamahl'}, 'is_answered': False, 'view_count': 2, 'answer_count': 0, 'score': 0, 'last_activity_date': 1620310131, 'creation_date': 1620310131, 'question_id': 67419846, 'content_license': 'CC BY-SA 4.0', 'link': 'https://stackoverflow.com/questions/67419846/appsync-force-field-resolvers-in-the-middle-of-a-pipeline', 'title': 'AppSync: force field resolvers in the middle of a pipeline'}, {'tags': ['sql', 'oracle'], 'owner': {'reputation': 9, 'user_id': 15573408, 'user_type': 'registered', 'profile_image': 'https://www.gravatar.com/avatar/cb64d9cbebde10ef0a9b884ee22b7964?s=128&d=identicon&r=PG&f=1', 'display_name': 'melolo', 'link': 'https://stackoverflow.com/users/15573408/melolo'}, 'is_answered': False, 'view_count': 8, 'answer_count': 0, 'score': 0, 'last_activity_date': 1620310128, 'creation_date': 1620309952, 'last_edit_date': 1620310128, 'question_id': 67419804, 'content_license': 'CC BY-SA 4.0', 'link': 'https://stackoverflow.com/questions/67419804/how-can-i-declare-a-variable-in-sql-query-is-not-working', 'title': 'How can i declare a variable in sql? Query is not working'}, {'tags': ['google-oauth', 'gmail-api', 'query-parameters'], 'owner': {'reputation': 101, 'user_id': 9514635, 'user_type': 'registered', 'profile_image': 'https://www.gravatar.com/avatar/0e774d62ca96d56fc41a4b486cd85d30?s=128&d=identicon&r=PG&f=1', 'display_name': 'momwhocode', 'link': 'https://stackoverflow.com/users/9514635/momwhocode'}, 'is_answered': False, 'view_count': 2, 'answer_count': 0, 'score': 0, 'last_activity_date': 1620310128, 'creation_date': 1620310128, 'question_id': 67419845, 'content_license': 'CC BY-SA 4.0', 'link': 'https://stackoverflow.com/questions/67419845/how-to-send-query-parameters-for-gmail-api-for-list-user-messages', 'title': 'How to send query parameters for gmail api for list_user_messages?'}, {'tags': ['twilio', 'twilio-api'], 'owner': {'reputation': 387, 'user_id': 2864855, 'user_type': 'registered', 'accept_rate': 61, 'profile_image': 'https://www.gravatar.com/avatar/2b40d19d08a8fa7e79a91fa4dfe67d92?s=128&d=identicon&r=PG&f=1', 'display_name': 'jruivo', 'link': 'https://stackoverflow.com/users/2864855/jruivo'}, 'is_answered': False, 'view_count': 2, 'answer_count': 0, 'score': 0, 'last_activity_date': 1620310127, 'creation_date': 1620310127, 'question_id': 67419844, 'content_license': 'CC BY-SA 4.0', 'link': 'https://stackoverflow.com/questions/67419844/check-if-the-messaging-active-configuration-is-configured-through-api', 'title': 'Check if the Messaging Active Configuration is configured through API'}, {'tags': ['sql'], 'owner': {'reputation': 301, 'user_id': 12080212, 'user_type': 'registered', 'profile_image': 'https://www.gravatar.com/avatar/b330125a4e9269e6b5f3facfb651ca77?s=128&d=identicon&r=PG&f=1', 'display_name': 'NidenK', 'link': 'https://stackoverflow.com/users/12080212/nidenk'}, 'is_answered': False, 'view_count': 17, 'answer_count': 3, 'score': 0, 'last_activity_date': 1620310126, 'creation_date': 1620309737, 'question_id': 67419728, 'content_license': 'CC BY-SA 4.0', 'link': 'https://stackoverflow.com/questions/67419728/getting-1s-and-0s-instead-of-count-in-this-query', 'title': 'Getting 1&#39;s and 0&#39;s instead of COUNT in this query'}, {'tags': ['sql', 'oracle', 'plsql'], 'owner': {'reputation': 347, 'user_id': 15746603, 'user_type': 'registered', 'profile_image': 'https://www.gravatar.com/avatar/b406f241444f9a189020055819cb3c0b?s=128&d=identicon&r=PG&f=1', 'display_name': 'jeiv', 'link': 'https://stackoverflow.com/users/15746603/jeiv'}, 'is_answered': False, 'view_count': 16, 'answer_count': 2, 'score': 0, 'last_activity_date': 1620310125, 'creation_date': 1620308331, 'last_edit_date': 1620310125, 'question_id': 67419314, 'content_license': 'CC BY-SA 4.0', 'link': 'https://stackoverflow.com/questions/67419314/oracle-plsql-return-value-when-calling-function-split-string', 'title': 'Oracle PLSQL return value when calling function split_string'}, {'tags': ['javascript', 'node.js', 'webrtc'], 'owner': {'reputation': 21, 'user_id': 3212849, 'user_type': 'registered', 'profile_image': 'https://i.stack.imgur.com/5957J.jpg?s=128&g=1', 'display_name': 'Chess', 'link': 'https://stackoverflow.com/users/3212849/chess'}, 'is_answered': True, 'view_count': 8564, 'answer_count': 5, 'score': 2, 'last_activity_date': 1620310124, 'creation_date': 1390657430, 'question_id': 21351319, 'content_license': 'CC BY-SA 3.0', 'link': 'https://stackoverflow.com/questions/21351319/signaling-channel-on-webrtc', 'title': 'Signaling channel on WebRTC'}, {'tags': ['java', 'xml', 'carriage-return', 'code-cleanup'], 'owner': {'reputation': 4254, 'user_id': 147381, 'user_type': 'registered', 'accept_rate': 73, 'profile_image': 'https://www.gravatar.com/avatar/18a9273d5f065eb96e425d99b3b221c4?s=128&d=identicon&r=PG', 'display_name': 'Brad', 'link': 'https://stackoverflow.com/users/147381/brad'}, 'is_answered': True, 'view_count': 44353, 'accepted_answer_id': 12674004, 'answer_count': 10, 'score': 19, 'last_activity_date': 1620310123, 'creation_date': 1349079586, 'last_edit_date': 1366804270, 'question_id': 12669686, 'content_license': 'CC BY-SA 3.0', 'link': 'https://stackoverflow.com/questions/12669686/how-to-remove-extra-empty-lines-from-xml-file', 'title': 'How to remove extra empty lines from XML file?'}, {'tags': ['javascript', 'wordpress', 'xmlhttprequest', 'infinite-scroll'], 'owner': {'reputation': 1, 'user_id': 15853769, 'user_type': 'registered', 'profile_image': 'https://www.gravatar.com/avatar/98ecc50b6b4a352b7f7b6bce506889d9?s=128&d=identicon&r=PG&f=1', 'display_name': 'gondziu', 'link': 'https://stackoverflow.com/users/15853769/gondziu'}, 'is_answered': False, 'view_count': 2, 'answer_count': 0, 'score': 0, 'last_activity_date': 1620310122, 'creation_date': 1620310122, 'question_id': 67419841, 'content_license': 'CC BY-SA 4.0', 'link': 'https://stackoverflow.com/questions/67419841/wordpress-vanilla-js-ajax-load-more-posts-problem-with-offset-duplicating-po', 'title': 'Wordpress Vanilla JS Ajax load more posts - problem with offset / duplicating posts'}, {'tags': ['apache-kafka', 'avro', 'ksqldb'], 'owner': {'reputation': 61, 'user_id': 11610225, 'user_type': 'registered', 'profile_image': 'https://www.gravatar.com/avatar/06751e1c524e42f854a94485e4d05d05?s=128&d=identicon&r=PG', 'display_name': 'chadmc', 'link': 'https://stackoverflow.com/users/11610225/chadmc'}, 'is_answered': False, 'view_count': 283, 'answer_count': 2, 'score': 0, 'last_activity_date': 1620310121, 'creation_date': 1591458799, 'last_edit_date': 1591669586, 'question_id': 62234258, 'content_license': 'CC BY-SA 4.0', 'link': 'https://stackoverflow.com/questions/62234258/ksql-avro-format-in-quickstart-gives-error', 'title': 'Ksql avro format in quickstart gives error'}, {'tags': ['python'], 'owner': {'reputation': 1, 'user_id': 15589662, 'user_type': 'registered', 'profile_image': 'https://lh3.googleusercontent.com/-nFjRYOQErgY/AAAAAAAAAAI/AAAAAAAAAAA/AMZuuckYRlEtTfDxq70HJ7TBFBbmor1_dA/s96-c/photo.jpg?sz=128', 'display_name': 'Tao Sun', 'link': 'https://stackoverflow.com/users/15589662/tao-sun'}, 'is_answered': False, 'view_count': 23, 'answer_count': 1, 'score': 0, 'last_activity_date': 1620310119, 'creation_date': 1620309356, 'question_id': 67419615, 'content_license': 'CC BY-SA 4.0', 'link': 'https://stackoverflow.com/questions/67419615/could-not-get-username-from-env', 'title': 'Could not get username from env'}, {'tags': ['python', 'markdown', 'python-sphinx'], 'owner': {'reputation': 2336, 'user_id': 128773, 'user_type': 'registered', 'profile_image': 'https://www.gravatar.com/avatar/145985de196c55c2d52c9db40c334c89?s=128&d=identicon&r=PG', 'display_name': 'digi604', 'link': 'https://stackoverflow.com/users/128773/digi604'}, 'is_answered': True, 'view_count': 53503, 'answer_count': 11, 'score': 224, 'last_activity_date': 1620310116, 'creation_date': 1268931425, 'last_edit_date': 1310993877, 'question_id': 2471804, 'content_license': 'CC BY-SA 3.0', 'link': 'https://stackoverflow.com/questions/2471804/using-sphinx-with-markdown-instead-of-rst', 'title': 'Using sphinx with Markdown instead of RST'}, {'tags': ['php', 'file'], 'owner': {'reputation': 1, 'user_id': 15813625, 'user_type': 'registered', 'profile_image': 'https://www.gravatar.com/avatar/e1571b00a61d6b34bca6a5138650f473?s=128&d=identicon&r=PG&f=1', 'display_name': 'user15813625', 'link': 'https://stackoverflow.com/users/15813625/user15813625'}, 'is_answered': False, 'view_count': 11, 'answer_count': 0, 'score': 0, 'last_activity_date': 1620310114, 'creation_date': 1620309784, 'last_edit_date': 1620310114, 'question_id': 67419744, 'content_license': 'CC BY-SA 4.0', 'link': 'https://stackoverflow.com/questions/67419744/how-to-start-reading-from-a-specific-string-indicator-in-php', 'title': 'How to start reading from a specific string indicator in PHP?'}, {'tags': ['vba', 'loops', 'duplicates', 'delimited-text'], 'owner': {'reputation': 29, 'user_id': 15377161, 'user_type': 'registered', 'profile_image': 'https://lh3.googleusercontent.com/a-/AOh14GjE4guAmQ5B_LxDOwY_QzxTy9ikGTrdETMHmLMBjw=k-s128', 'display_name': 'M Muaz', 'link': 'https://stackoverflow.com/users/15377161/m-muaz'}, 'is_answered': True, 'view_count': 23, 'accepted_answer_id': 67419462, 'answer_count': 2, 'score': 1, 'last_activity_date': 1620310113, 'creation_date': 1620304394, 'last_edit_date': 1620306575, 'question_id': 67418233, 'content_license': 'CC BY-SA 4.0', 'link': 'https://stackoverflow.com/questions/67418233/trying-to-find-duplicate-comma-delimited-texts-in-each-cell-of-a-column', 'title': 'Trying to find Duplicate comma delimited texts in each cell of a column'}, {'tags': ['spring-cloud-stream', 'spring-cloud-stream-binder-kafka'], 'owner': {'reputation': 1, 'user_id': 15853236, 'user_type': 'registered', 'profile_image': 'https://lh3.googleusercontent.com/a-/AOh14Giq4BeqB1JpaymutEwUeJBs6M97Hp4n0Ul5nxMr=k-s128', 'display_name': 'Andy Palmer', 'link': 'https://stackoverflow.com/users/15853236/andy-palmer'}, 'is_answered': False, 'view_count': 2, 'answer_count': 0, 'score': 0, 'last_activity_date': 1620310101, 'creation_date': 1620310101, 'question_id': 67419839, 'content_license': 'CC BY-SA 4.0', 'link': 'https://stackoverflow.com/questions/67419839/spring-cloud-stream-functionrouter-output-attempts-to-bind-to-kafka-topic', 'title': 'Spring Cloud Stream functionRouter output attempts to bind to Kafka topic'}, {'tags': ['amazon-web-services', 'video.js', 'aws-ivs'], 'owner': {'reputation': 43, 'user_id': 15710709, 'user_type': 'registered', 'profile_image': 'https://www.gravatar.com/avatar/04b9995dea16bea90d12ff18ec7fb3b4?s=128&d=identicon&r=PG&f=1', 'display_name': 'benntyGoodla', 'link': 'https://stackoverflow.com/users/15710709/benntygoodla'}, 'is_answered': False, 'view_count': 2, 'answer_count': 0, 'score': 0, 'last_activity_date': 1620310098, 'creation_date': 1620310098, 'question_id': 67419838, 'content_license': 'CC BY-SA 4.0', 'link': 'https://stackoverflow.com/questions/67419838/aws-ivs-player-where-are-transcoded-bitrate-options-coming-from', 'title': 'AWS IVS Player: where are transcoded bitrate options coming from?'}, {'tags': ['regex'], 'owner': {'reputation': 143, 'user_id': 1422564, 'user_type': 'registered', 'profile_image': 'https://www.gravatar.com/avatar/5d0395af1b9f7701d01b046e84cd7cd8?s=128&d=identicon&r=PG', 'display_name': 'irishman', 'link': 'https://stackoverflow.com/users/1422564/irishman'}, 'is_answered': True, 'view_count': 30715, 'accepted_answer_id': 14203162, 'answer_count': 12, 'score': 9, 'last_activity_date': 1620310098, 'creation_date': 1357588774, 'last_edit_date': 1579783257, 'question_id': 14203122, 'content_license': 'CC BY-SA 4.0', 'link': 'https://stackoverflow.com/questions/14203122/create-a-regular-expression-for-cron-statement', 'title': 'Create a regular expression for Cron statement'}, {'tags': ['javascript', 'angular', 'rxjs', 'rxjs-observables'], 'owner': {'reputation': 11, 'user_id': 7226654, 'user_type': 'registered', 'profile_image': 'https://graph.facebook.com/805164002955822/picture?type=large', 'display_name': 'Saket Kumar', 'link': 'https://stackoverflow.com/users/7226654/saket-kumar'}, 'is_answered': False, 'view_count': 2, 'answer_count': 0, 'score': 0, 'last_activity_date': 1620310098, 'creation_date': 1620310098, 'question_id': 67419836, 'content_license': 'CC BY-SA 4.0', 'link': 'https://stackoverflow.com/questions/67419836/how-to-use-switchmap-in-rxjs-subsciption-array', 'title': 'How to use switchMap in RxJs Subsciption array?'}, {'tags': ['c++', 'multithreading', 'lock-free', 'reference-counting'], 'owner': {'reputation': 423, 'user_id': 5031219, 'user_type': 'registered', 'accept_rate': 60, 'profile_image': 'https://www.gravatar.com/avatar/cbff070bc96c0c635c122d9d73125ec9?s=128&d=identicon&r=PG&f=1', 'display_name': 'myoldgrandpa', 'link': 'https://stackoverflow.com/users/5031219/myoldgrandpa'}, 'is_answered': False, 'view_count': 30, 'answer_count': 0, 'score': 2, 'last_activity_date': 1620310095, 'creation_date': 1620053486, 'last_edit_date': 1620310095, 'question_id': 67371033, 'content_license': 'CC BY-SA 4.0', 'link': 'https://stackoverflow.com/questions/67371033/how-does-the-split-reference-counting-works-in-a-lock-free-stack', 'title': 'How does the split reference counting works in a lock free stack?'}, {'tags': ['python', 'function', 'flask', 'return', 'jinja2'], 'owner': {'reputation': 3, 'user_id': 10441716, 'user_type': 'registered', 'profile_image': 'https://lh4.googleusercontent.com/-Eqxk3McrZOk/AAAAAAAAAAI/AAAAAAAAAVk/2wYdpfcXn4o/photo.jpg?sz=128', 'display_name': 'iamgda', 'link': 'https://stackoverflow.com/users/10441716/iamgda'}, 'is_answered': False, 'view_count': 3, 'answer_count': 0, 'score': 0, 'last_activity_date': 1620310094, 'creation_date': 1620310094, 'question_id': 67419835, 'content_license': 'CC BY-SA 4.0', 'link': 'https://stackoverflow.com/questions/67419835/how-to-use-dataframe-from-a-function-and-return-response-to-download-csv-file', 'title': 'How to use dataframe from a function and return response to download csv file - Flask'}, {'tags': ['docker', 'graylog2'], 'owner': {'reputation': 6471, 'user_id': 75793, 'user_type': 'registered', 'accept_rate': 77, 'profile_image': 'https://www.gravatar.com/avatar/3120e3db401361292eab43c7be870af5?s=128&d=identicon&r=PG', 'display_name': 'Kimble', 'link': 'https://stackoverflow.com/users/75793/kimble'}, 'is_answered': True, 'view_count': 5916, 'accepted_answer_id': 40636190, 'answer_count': 8, 'score': 10, 'last_activity_date': 1620310093, 'creation_date': 1414521189, 'question_id': 26615893, 'content_license': 'CC BY-SA 3.0', 'link': 'https://stackoverflow.com/questions/26615893/automatically-create-udp-input-for-graylog2-server-running-in-docker', 'title': 'Automatically create UDP input for Graylog2 server running in Docker?'}]\n"
          ],
          "name": "stdout"
        }
      ]
    },
    {
      "cell_type": "markdown",
      "metadata": {
        "id": "1gKUosCUxLis"
      },
      "source": [
        "The full JSON requested has been printed.  A nicer way of printing this is to use **pprint**"
      ]
    },
    {
      "cell_type": "code",
      "metadata": {
        "id": "1m7CzFXAxUyO"
      },
      "source": [
        "pprint.pprint(response.json())"
      ],
      "execution_count": null,
      "outputs": []
    },
    {
      "cell_type": "markdown",
      "metadata": {
        "id": "XDm2WRJ3G2R8"
      },
      "source": [
        "You may have expected more questions to be returned than you'll see here.  The limited number is due to paging.  For stack exchange page starts at and defaults to 1, pagesize can be any value between 0 and 100 and defaults to 30.  There is a section in the stack exchange documentation on paging and how to return total results, but as the reason for paging is not to overload the API, and we dont really need all the results, we'll stick with the defaults.\n",
        "\n",
        "APIs will also limit the rate if requests or \"throttle\" the number of request per second to avoid abuse or overloading.\n",
        "\n",
        "Use a for loop to run through the items and print only those meeting a certain condition"
      ]
    },
    {
      "cell_type": "code",
      "metadata": {
        "id": "CIK7A0Tl81Pv",
        "colab": {
          "base_uri": "https://localhost:8080/"
        },
        "outputId": "fb0dcb9d-0a8b-45a2-c016-ca431cbbea0e"
      },
      "source": [
        "term = [\" r \",\" R \", \"python\", \"Python\",\"SQL\"]\n",
        "\n",
        "for data in response.json()['items']:\n",
        "  if any(x in data['title'] for x in term):\n",
        "    print(data['title'])\n",
        "    print(data['link'])\n",
        "    print()"
      ],
      "execution_count": null,
      "outputs": [
        {
          "output_type": "stream",
          "text": [
            "Oracle PLSQL return value when calling function split_string\n",
            "https://stackoverflow.com/questions/67419314/oracle-plsql-return-value-when-calling-function-split-string\n",
            "\n"
          ],
          "name": "stdout"
        }
      ]
    },
    {
      "cell_type": "markdown",
      "metadata": {
        "id": "N316Q0fvOM3C"
      },
      "source": [
        "Now try and spend **5-10 mins** attempting to get find the \"answer with the most votes along with the original question\""
      ]
    },
    {
      "cell_type": "code",
      "metadata": {
        "id": "OHayzT1mOWAw",
        "colab": {
          "base_uri": "https://localhost:8080/"
        },
        "outputId": "a2ffcd2e-05f3-445d-bba3-607811706568"
      },
      "source": [
        "# CODE IN HERE\n",
        "url3 = 'http://api.stackexchange.com/2.2/questions'\n",
        "\n",
        "parameters = {\n",
        "    'order':'desc',\n",
        "    'sort':'votes',\n",
        "    'site':'stackoverflow',\n",
        "}\n",
        "\n",
        "response2 = requests.get(url3, params=parameters)\n",
        "print(response2.status_code)\n",
        "\n"
      ],
      "execution_count": null,
      "outputs": [
        {
          "output_type": "stream",
          "text": [
            "200\n"
          ],
          "name": "stdout"
        }
      ]
    },
    {
      "cell_type": "code",
      "metadata": {
        "colab": {
          "base_uri": "https://localhost:8080/"
        },
        "id": "3VocZ1M4D-8S",
        "outputId": "21ef2a3b-46fb-4378-9446-2e1836c7b908"
      },
      "source": [
        "votes=(0,)\n",
        "\n",
        "for data in response2.json()['items']:\n",
        "  if data['score']>votes[0]:\n",
        "    votes=data['score'],\n",
        "    name=data['owner']['display_name'],\n",
        "    question=data['question_id']\n",
        "\n",
        "\n",
        "print(votes)\n",
        "print(name)\n",
        "print(question)"
      ],
      "execution_count": null,
      "outputs": [
        {
          "output_type": "stream",
          "text": [
            "(25476,)\n",
            "('GManNickG',)\n",
            "11227809\n"
          ],
          "name": "stdout"
        }
      ]
    },
    {
      "cell_type": "code",
      "metadata": {
        "id": "bRswQNCODIKN"
      },
      "source": [
        "pprint.pprint(response.json())"
      ],
      "execution_count": null,
      "outputs": []
    },
    {
      "cell_type": "markdown",
      "metadata": {
        "id": "vnc67c-NPCsd"
      },
      "source": [
        "If the Stack overflow example was a bit vanilla for you then have a look at https://thedogapi.com/ or https://thecatapi.com/ which I hear are really good examples of well documented APIs.  They do require a sign-up though so I've not touched them here for time."
      ]
    },
    {
      "cell_type": "markdown",
      "metadata": {
        "id": "OjHCoNf6Uh8L"
      },
      "source": [
        "## Task 3: \"Post\" an update\n",
        "\n",
        "Extracting data will be the most common use for data users.  However, it may be useful to also see posting data to a database.\n",
        "\n",
        "For this we need a server to post to.  I'll use requestbin hosted by pipedream for this.  Specifcially, https://requestbin.com/r/encygohnki5lb (note: this probably won't be available after the initial session but it's easy to genereate your own).  Documentation: https://requestbin.com/docs/#examining-requests\n",
        "\n"
      ]
    },
    {
      "cell_type": "code",
      "metadata": {
        "id": "WuZML2OBSfTe"
      },
      "source": [
        "url_pipedream = \"https://encygohnki5lb.x.pipedream.net/training/AU/\"\n",
        "mydict = {\n",
        "    'fav_film': 'Sound of Music',\n",
        "    'fav_scene': 'Opening scene',\n",
        "          }"
      ],
      "execution_count": null,
      "outputs": []
    },
    {
      "cell_type": "markdown",
      "metadata": {
        "id": "pstS2-t6Fke3"
      },
      "source": [
        "Post your data to the requestbin"
      ]
    },
    {
      "cell_type": "code",
      "metadata": {
        "id": "wBg3OUMTFk6H",
        "colab": {
          "base_uri": "https://localhost:8080/"
        },
        "outputId": "385d126c-efe1-4a05-8d94-ab61da4f4896"
      },
      "source": [
        "requests.post(url_pipedream, data = mydict)"
      ],
      "execution_count": null,
      "outputs": [
        {
          "output_type": "execute_result",
          "data": {
            "text/plain": [
              "<Response [200]>"
            ]
          },
          "metadata": {
            "tags": []
          },
          "execution_count": 30
        }
      ]
    },
    {
      "cell_type": "markdown",
      "metadata": {
        "id": "sr_zT9wZFuH4"
      },
      "source": [
        "We should now be able to see each of the posts in the requestbin log.  Feel free to have a go at \"GET\"ing the data back again. "
      ]
    },
    {
      "cell_type": "markdown",
      "metadata": {
        "id": "uQMW_Nx0LGAm"
      },
      "source": [
        "# Note on Building an API\n",
        "\n",
        "To make a simple post and request set is fairly straight forwards but developing a fully functioning API which meets all user and REST requirements is a much larger task. \n",
        "\n",
        "Roughly we need to:\n",
        "- create a server or app that can run in a server\n",
        "- define a series of endpoints \n",
        "- for each end point define the GET, POST, PUT, DELETE functions\n",
        "  - GET: This usually consists of converting a datasource into a dictionary that can be returned alongside the code \"200\"\n",
        "  - POST/PUT: This requires a set of required fields to be defined with a series of if statements to check for duplicate or invalid entries. \n",
        "  - DELETE: Required fields and if statements to check the record exists in order to delete it\n",
        "\n",
        "The trouble is that useable datasets have many fields with specificy conditions that need to be met and to make a useful API we would need to define a whole series of endpoints.  Thus maybe more time consuming than difficult. \n",
        "\n",
        "In Python the most common tools used to creat an API are FLASK and Django.  Here is a good walk through to creating an API in Flask - https://towardsdatascience.com/the-right-way-to-build-an-api-with-python-cd08ab285f8f including the repo with the full code - https://gist.github.com/jamescalam/0b309d275999f9df26fa063602753f73\n",
        "\n"
      ]
    },
    {
      "cell_type": "markdown",
      "metadata": {
        "id": "QpOFmtd8Fc2h"
      },
      "source": [
        ""
      ]
    },
    {
      "cell_type": "code",
      "metadata": {
        "colab": {
          "base_uri": "https://localhost:8080/"
        },
        "id": "EqLzsql7Lw4x",
        "outputId": "61325c4b-a1ae-4f51-ceec-b66289936771"
      },
      "source": [
        "urlpm = 'https://eutils.ncbi.nlm.nih.gov/entrez/eutils/esearch.fcgi'\n",
        "urlpm = 'https://eutils.ncbi.nlm.nih.gov/entrez/eutils/esearch.fcgi?db=pmc&term=nhsx[affiliation]'\n",
        "parameterspm = {\n",
        "    'db':'pmc',\n",
        "    'term':'nhsx[affiliation]',\n",
        "}\n",
        "\n",
        "#responsepm = requests.get(urlpm, params=parameterspm)\n",
        "responsepm = requests.get(urlpm)\n",
        "print(responsepm.status_code)"
      ],
      "execution_count": null,
      "outputs": [
        {
          "output_type": "stream",
          "text": [
            "200\n"
          ],
          "name": "stdout"
        }
      ]
    },
    {
      "cell_type": "code",
      "metadata": {
        "colab": {
          "base_uri": "https://localhost:8080/"
        },
        "id": "TldVqSCpMJPH",
        "outputId": "1cc28826-e943-4afc-add2-7a146e5abab1"
      },
      "source": [
        "responsepm.headers"
      ],
      "execution_count": null,
      "outputs": [
        {
          "output_type": "execute_result",
          "data": {
            "text/plain": [
              "{'Date': 'Thu, 06 May 2021 15:13:34 GMT', 'Server': 'Finatra', 'Strict-Transport-Security': 'max-age=31536000; includeSubDomains; preload', 'Content-Security-Policy': 'upgrade-insecure-requests', 'Cache-Control': 'private', 'NCBI-PHID': '939B7C11D2DCB035000045D8C11E7853.1.1.m_1', 'X-RateLimit-Remaining': '2', 'NCBI-SID': '8D52E970B7DB7682_CF9DSID', 'content-encoding': 'gzip', 'X-RateLimit-Limit': '3', 'Access-Control-Allow-Origin': '*', 'Content-Type': 'text/xml; charset=UTF-8', 'Access-Control-Expose-Headers': 'X-RateLimit-Limit,X-RateLimit-Remaining', 'Set-Cookie': 'ncbi_sid=8D52E970B7DB7682_CF9DSID; domain=.nih.gov; path=/; expires=Fri, 06 May 2022 15:13:35 GMT', 'X-UA-Compatible': 'IE=Edge', 'X-XSS-Protection': '1; mode=block', 'Keep-Alive': 'timeout=4, max=40', 'Connection': 'Keep-Alive', 'Transfer-Encoding': 'chunked'}"
            ]
          },
          "metadata": {
            "tags": []
          },
          "execution_count": 62
        }
      ]
    },
    {
      "cell_type": "code",
      "metadata": {
        "colab": {
          "base_uri": "https://localhost:8080/"
        },
        "id": "5jYmEZ1OOTSs",
        "outputId": "df28abb2-eb67-4f98-9911-2866ced39220"
      },
      "source": [
        "dict_data = xmltodict.parse(responsepm.content)\n",
        "print(dict_data)"
      ],
      "execution_count": null,
      "outputs": [
        {
          "output_type": "stream",
          "text": [
            "OrderedDict([('eSearchResult', OrderedDict([('Count', '4'), ('RetMax', '4'), ('RetStart', '0'), ('IdList', OrderedDict([('Id', ['7571731', '7331656', '7575286', '6971955'])])), ('TranslationSet', None), ('TranslationStack', OrderedDict([('TermSet', OrderedDict([('Term', 'nhsx[affiliation]'), ('Field', 'affiliation'), ('Count', '4'), ('Explode', 'N')])), ('OP', 'GROUP')])), ('QueryTranslation', 'nhsx[affiliation]')]))])\n"
          ],
          "name": "stdout"
        }
      ]
    },
    {
      "cell_type": "code",
      "metadata": {
        "colab": {
          "base_uri": "https://localhost:8080/"
        },
        "id": "CsAzB1smP0W0",
        "outputId": "87944468-bfbb-49cf-e61f-52f2f6c38907"
      },
      "source": [
        "tree = ElementTree.fromstring(responsepm.content)\n",
        "print(tree)"
      ],
      "execution_count": null,
      "outputs": [
        {
          "output_type": "stream",
          "text": [
            "{}\n"
          ],
          "name": "stdout"
        }
      ]
    },
    {
      "cell_type": "code",
      "metadata": {
        "colab": {
          "base_uri": "https://localhost:8080/"
        },
        "id": "XXohlIKtOc4A",
        "outputId": "16362fad-80bc-4049-e253-a1d257ab1bf3"
      },
      "source": [
        "urlid='https://eutils.ncbi.nlm.nih.gov/entrez/eutils/esummary.fcgi?db=pmc&id=3539452&retmode=json'\n",
        "responseid = requests.get(urlid)\n",
        "print(responseid.status_code)\n",
        "print(responseid.json())"
      ],
      "execution_count": null,
      "outputs": [
        {
          "output_type": "stream",
          "text": [
            "200\n",
            "{'header': {'type': 'esummary', 'version': '0.3'}, 'result': {'uids': ['3539452'], '3539452': {'uid': '3539452', 'pubdate': '2012 Feb 23', 'epubdate': '2012 Feb 23', 'printpubdate': '2013 Feb', 'source': 'Cereb Cortex', 'authors': [{'name': 'Kind PC', 'authtype': 'Author'}, {'name': 'Sengpiel F', 'authtype': 'Author'}, {'name': 'Beaver CJ', 'authtype': 'Author'}, {'name': 'Crocker-Buque A', 'authtype': 'Author'}, {'name': 'Kelly GM', 'authtype': 'Author'}, {'name': 'Matthews RT', 'authtype': 'Author'}, {'name': 'Mitchell DE', 'authtype': 'Author'}], 'title': 'The Development and Activity-Dependent Expression of Aggrecan in the Cat Visual Cortex', 'volume': '23', 'issue': '2', 'pages': '349-360', 'articleids': [{'idtype': 'pmid', 'value': '22368089'}, {'idtype': 'doi', 'value': '10.1093/cercor/bhs015'}, {'idtype': 'pmcid', 'value': 'PMC3539452'}], 'fulljournalname': 'Cerebral Cortex (New York, NY)', 'sortdate': '2012/02/23 00:00', 'pmclivedate': '2014/02/01'}}}\n"
          ],
          "name": "stdout"
        }
      ]
    },
    {
      "cell_type": "code",
      "metadata": {
        "colab": {
          "base_uri": "https://localhost:8080/"
        },
        "id": "nN9gdoyzOoMy",
        "outputId": "ab9d5715-bb9e-4002-85e3-14fd89782b41"
      },
      "source": [
        "print(responseid.json())"
      ],
      "execution_count": null,
      "outputs": [
        {
          "output_type": "stream",
          "text": [
            "{'header': {'type': 'esummary', 'version': '0.3'}, 'result': {'uids': ['3539452'], '3539452': {'uid': '3539452', 'pubdate': '2012 Feb 23', 'epubdate': '2012 Feb 23', 'printpubdate': '2013 Feb', 'source': 'Cereb Cortex', 'authors': [{'name': 'Kind PC', 'authtype': 'Author'}, {'name': 'Sengpiel F', 'authtype': 'Author'}, {'name': 'Beaver CJ', 'authtype': 'Author'}, {'name': 'Crocker-Buque A', 'authtype': 'Author'}, {'name': 'Kelly GM', 'authtype': 'Author'}, {'name': 'Matthews RT', 'authtype': 'Author'}, {'name': 'Mitchell DE', 'authtype': 'Author'}], 'title': 'The Development and Activity-Dependent Expression of Aggrecan in the Cat Visual Cortex', 'volume': '23', 'issue': '2', 'pages': '349-360', 'articleids': [{'idtype': 'pmid', 'value': '22368089'}, {'idtype': 'doi', 'value': '10.1093/cercor/bhs015'}, {'idtype': 'pmcid', 'value': 'PMC3539452'}], 'fulljournalname': 'Cerebral Cortex (New York, NY)', 'sortdate': '2012/02/23 00:00', 'pmclivedate': '2014/02/01'}}}\n"
          ],
          "name": "stdout"
        }
      ]
    },
    {
      "cell_type": "code",
      "metadata": {
        "colab": {
          "base_uri": "https://localhost:8080/"
        },
        "id": "oMQvCp7rR-xD",
        "outputId": "4ba023e2-607b-4234-d549-0af04f177ee9"
      },
      "source": [
        "#https://stackoverflow.com/questions/57053378/query-pubmed-with-python-how-to-get-all-article-details-from-query-to-pandas-d\n",
        "pubmed = PubMed(tool=\"PubMedSearcher\", email=\"myemail@ccc.com\")\n",
        "results = pubmed.query('nhsx[affiliation]', max_results=500)\n",
        "articleList = []\n",
        "articleInfo = []\n",
        "\n",
        "for article in results:\n",
        "# Print the type of object we've found (can be either PubMedBookArticle or PubMedArticle).\n",
        "# We need to convert it to dictionary with available function\n",
        "    articleDict = article.toDict()\n",
        "    articleList.append(articleDict)\n",
        "\n",
        "# Generate list of dict records which will hold all article details that could be fetch from PUBMED API\n",
        "for article in articleList:\n",
        "#Sometimes article['pubmed_id'] contains list separated with comma - take first pubmedId in that list - thats article pubmedId\n",
        "    pubmedId = article['pubmed_id'].partition('\\n')[0]\n",
        "    # Append article info to dictionary #\n",
        "    articleInfo.append({u'pubmed_id':pubmedId,\n",
        "                       u'title':article['title'],\n",
        "                       u'keywords':article['keywords'],\n",
        "                       u'journal':article['journal'],\n",
        "                       u'abstract':article['abstract'],\n",
        "                       u'conclusions':article['conclusions'],\n",
        "                       u'methods':article['methods'],\n",
        "                       u'results': article['results'],\n",
        "                       u'copyrights':article['copyrights'],\n",
        "                       u'doi':article['doi'],\n",
        "                       u'publication_date':article['publication_date'], \n",
        "                       u'authors':article['authors']})\n",
        "\n",
        "# Generate Pandas DataFrame from list of dictionaries\n",
        "articlesPD = pd.DataFrame.from_dict(articleInfo)\n",
        "#export_csv = df.to_csv (r'C:\\Users\\YourUsernam\\Desktop\\export_dataframe.csv', index = None, header=True) \n",
        "\n",
        "#Print first 10 rows of dataframe\n",
        "print(articlesPD.head(10))\n",
        "print(articlesPD['title'])\n",
        "print(articlesPD['keywords'])\n",
        "print(articleList)"
      ],
      "execution_count": null,
      "outputs": [
        {
          "output_type": "stream",
          "text": [
            "  pubmed_id  ...                                            authors\n",
            "0  33094226  ...  [{'lastname': 'Maguire', 'firstname': 'James',...\n",
            "1  32702587  ...  [{'lastname': 'Morley', 'firstname': 'Jessica'...\n",
            "2  32672131  ...  [{'lastname': 'Goldacre', 'firstname': 'Ben', ...\n",
            "3  32616598  ...  [{'lastname': 'Jacob', 'firstname': 'Joseph', ...\n",
            "4  32010451  ...  [{'lastname': 'Robbins', 'firstname': 'Tim', '...\n",
            "\n",
            "[5 rows x 12 columns]\n",
            "0            Digital health - a trainee's perspective.\n",
            "1    The ethics of AI in health care: A mapping rev...\n",
            "2    Bringing NHS data analysis into the 21st century.\n",
            "3    Using imaging to combat a pandemic: rationale ...\n",
            "4    Supporting early clinical careers in digital h...\n",
            "Name: title, dtype: object\n",
            "0                     [QI, Trainee, digital, training]\n",
            "1    [Artificial intelligence, Ethics, Health polic...\n",
            "2                                                   []\n",
            "3                                                   []\n",
            "4                                                   []\n",
            "Name: keywords, dtype: object\n",
            "[{'pubmed_id': '33094226\\n30770353', 'title': \"Digital health - a trainee's perspective.\", 'abstract': 'As we shift towards using digital systems, and they play an increasing part in our working lives, the role of the clinician in their development and implementation will become even more important. To ensure our clinical staff have the required digital skills, we need to increase awareness of the digital opportunities available to them during clinical training. We also need to get comfortable with employing a range of tools (such as quality improvement methodology) to maximise the impact of digital technology projects.', 'keywords': ['QI', 'Trainee', 'digital', 'training'], 'journal': 'Future healthcare journal', 'publication_date': datetime.date(2020, 10, 24), 'authors': [{'lastname': 'Maguire', 'firstname': 'James', 'initials': 'J', 'affiliation': \"Mission One (NHSX), and Guy's and St Thomas' Hospital, London, UK.\"}], 'methods': None, 'conclusions': None, 'results': None, 'copyrights': '© Royal College of Physicians 2020. All rights reserved.', 'doi': '10.7861/fhj.dig-2020-trai', 'xml': <Element 'PubmedArticle' at 0x7f5e681da5f0>}, {'pubmed_id': '32702587', 'title': 'The ethics of AI in health care: A mapping review.', 'abstract': \"This article presents a mapping review of the literature concerning the ethics of artificial intelligence (AI) in health care. The goal of this review is to summarise current debates and identify open questions for future research. Five literature databases were searched to support the following research question: how can the primary ethical risks presented by AI-health be categorised, and what issues must policymakers, regulators and developers consider in order to be 'ethically mindful? A series of screening stages were carried out-for example, removing articles that focused on digital health in general (e.g. data sharing, data access, data privacy, surveillance/nudging, consent, ownership of health data, evidence of efficacy)-yielding a total of 156 papers that were included in the review. We find that ethical issues can be (a) epistemic, related to misguided, inconclusive or inscrutable evidence; (b) normative, related to unfair outcomes and transformative effectives; or (c) related to traceability. We further find that these ethical issues arise at six levels of abstraction: individual, interpersonal, group, institutional, and societal or sectoral. Finally, we outline a number of considerations for policymakers and regulators, mapping these to existing literature, and categorising each as epistemic, normative or traceability-related and at the relevant level of abstraction. Our goal is to inform policymakers, regulators and developers of what they must consider if they are to enable health and care systems to capitalise on the dual advantage of ethical AI; maximising the opportunities to cut costs, improve care, and improve the efficiency of health and care systems, whilst proactively avoiding the potential harms. We argue that if action is not swiftly taken in this regard, a new 'AI winter' could occur due to chilling effects related to a loss of public trust in the benefits of AI for health care.\", 'keywords': ['Artificial intelligence', 'Ethics', 'Health policies', 'Healthcare', 'Machine learning'], 'journal': 'Social science & medicine (1982)', 'publication_date': datetime.date(2020, 7, 24), 'authors': [{'lastname': 'Morley', 'firstname': 'Jessica', 'initials': 'J', 'affiliation': 'Oxford Internet Institute, University of Oxford, 1 St Giles, Oxford, OX1 3JS, UK. Electronic address: jessica.morley@oii.ox.ac.uk.'}, {'lastname': 'Machado', 'firstname': 'Caio C V', 'initials': 'CCV', 'affiliation': 'Oxford Internet Institute, University of Oxford, 1 St Giles, Oxford, OX1 3JS, UK.'}, {'lastname': 'Burr', 'firstname': 'Christopher', 'initials': 'C', 'affiliation': 'Oxford Internet Institute, University of Oxford, 1 St Giles, Oxford, OX1 3JS, UK.'}, {'lastname': 'Cowls', 'firstname': 'Josh', 'initials': 'J', 'affiliation': 'Oxford Internet Institute, University of Oxford, 1 St Giles, Oxford, OX1 3JS, UK; Alan Turing Institute, British Library, 96 Euston Rd, London, NW1 2DB, UK.'}, {'lastname': 'Joshi', 'firstname': 'Indra', 'initials': 'I', 'affiliation': 'NHSX, Skipton House, 80 London Road, SE1 6LH, UK.'}, {'lastname': 'Taddeo', 'firstname': 'Mariarosaria', 'initials': 'M', 'affiliation': 'Oxford Internet Institute, University of Oxford, 1 St Giles, Oxford, OX1 3JS, UK; Alan Turing Institute, British Library, 96 Euston Rd, London, NW1 2DB, UK; Department of Computer Science, University of Oxford, 15 Parks Rd, Oxford, OX1 3QD, UK.'}, {'lastname': 'Floridi', 'firstname': 'Luciano', 'initials': 'L', 'affiliation': 'Oxford Internet Institute, University of Oxford, 1 St Giles, Oxford, OX1 3JS, UK; Alan Turing Institute, British Library, 96 Euston Rd, London, NW1 2DB, UK; Department of Computer Science, University of Oxford, 15 Parks Rd, Oxford, OX1 3QD, UK.'}], 'methods': None, 'conclusions': None, 'results': None, 'copyrights': 'Copyright © 2020 Elsevier Ltd. All rights reserved.', 'doi': '10.1016/j.socscimed.2020.113172', 'xml': <Element 'PubmedArticle' at 0x7f5e681882f0>}, {'pubmed_id': '32672131\\n30002063\\n30593447', 'title': 'Bringing NHS data analysis into the 21st century.', 'abstract': None, 'keywords': [], 'journal': 'Journal of the Royal Society of Medicine', 'publication_date': datetime.date(2020, 7, 17), 'authors': [{'lastname': 'Goldacre', 'firstname': 'Ben', 'initials': 'B', 'affiliation': 'DataLab, Nuffield Department Primary Care, Oxford OX2 6GG, UK.'}, {'lastname': 'Bardsley', 'firstname': 'Martin', 'initials': 'M', 'affiliation': 'Independent Consultant, previously 9058The Health Foundation, London EC4Y 8AP, UK.'}, {'lastname': 'Benson', 'firstname': 'Tim', 'initials': 'T', 'affiliation': 'R-Outcomes Limited, Bristol BS49 4FS,UK.'}, {'lastname': 'Cheema', 'firstname': 'Kate', 'initials': 'K', 'affiliation': '5045British Heart Foundation, London NW1 7AW, UK.'}, {'lastname': 'Chinn', 'firstname': 'Roger', 'initials': 'R', 'affiliation': 'CCIO, 9762Chelsea and Westminster Hospital NHS Foundation Trust, London SW10 9NH, UK.'}, {'lastname': 'Coughlan', 'firstname': 'Ellen', 'initials': 'E', 'affiliation': 'Data Analytics Team, 9058The Health Foundation, London EC4Y 8AP, UK.'}, {'lastname': 'Dougan', 'firstname': 'Sarah', 'initials': 'S', 'affiliation': 'London Borough of Islington Council, London N1 1XR, UK.'}, {'lastname': 'Farr', 'firstname': 'Marc', 'initials': 'M', 'affiliation': '2241East Kent Hospitals University NHS Foundation Trust, Kent and Canterbury Hospital, Canterbury CT1 3NG, UK.'}, {'lastname': 'Hawkins', 'firstname': 'Loraine', 'initials': 'L', 'affiliation': 'Independent Consultant, previously NHS England, London SE1 6LH, UK.'}, {'lastname': 'Jonas', 'firstname': 'Adrian', 'initials': 'A', 'affiliation': 'National Institute for Health and Care Excellence, London SW1A 2BU, UK.'}, {'lastname': 'Kinnear', 'firstname': 'Andy', 'initials': 'A', 'affiliation': 'NHS South, Central and West Commissioning Support Unit, Oxford OX4 2LH, UK.'}, {'lastname': 'Mcinnes', 'firstname': 'Morag', 'initials': 'M', 'affiliation': '9664Care Quality Commission, London SW1W 9SZ, UK.'}, {'lastname': 'Mohammed', 'firstname': 'Mohammed Amin', 'initials': 'MA', 'affiliation': 'The Strategy Unit - NHS Midlands and Lancashire Commissioning Support Unit, Kingston House, 438-450 High Street, West Bromwich B70 9LD, UK.'}, {'lastname': 'Morton', 'firstname': 'Caroline', 'initials': 'C', 'affiliation': 'DataLab, Nuffield Department Primary Care, Oxford OX2 6GG, UK.'}, {'lastname': 'Pasumarthy', 'firstname': 'Rahul', 'initials': 'R', 'affiliation': 'NHS NEL CSU, London EC2A 2DU, UK.'}, {'lastname': 'Pettinger', 'firstname': 'Neil', 'initials': 'N', 'affiliation': 'Kurtosis, Edinburgh EH6 6BZ, UK.'}, {'lastname': 'Rowland', 'firstname': 'Ben', 'initials': 'B', 'affiliation': '(Previously Avado Learning) Studio 3 Advisory, London SW16 1AJ, UK.'}, {'lastname': 'Sebire', 'firstname': 'Neil', 'initials': 'N', 'affiliation': 'Great Ormond Street Hospital, London WC1N 3JH, UK.'}, {'lastname': 'Stroner', 'firstname': 'Paul', 'initials': 'P', 'affiliation': 'Association of Professional Healthcare Analysts, Taunton TA3 5LY, UK.'}, {'lastname': 'Tennison', 'firstname': 'Jeni', 'initials': 'J', 'affiliation': 'Vice President and Chief Strategy Adviser, Open Data Institute, 65 Clifton Street, London EC2A 4JE, UK.'}, {'lastname': 'Warnakula', 'firstname': 'Samantha', 'initials': 'S', 'affiliation': 'NHSX, London SE1 6LH, UK.'}, {'lastname': 'Watson', 'firstname': 'Oliver', 'initials': 'O', 'affiliation': 'Bristol Health Partners, Bristol BS1 2NT, UK.'}, {'lastname': 'Wright', 'firstname': 'Emma', 'initials': 'E', 'affiliation': '7047Salford Royal NHS Foundation Trust, Salford M6 8HD, UK.'}, {'lastname': 'Young', 'firstname': 'Hamish', 'initials': 'H', 'affiliation': '9664Care Quality Commission, London SW1W 9SZ, UK.'}, {'lastname': 'Morley', 'firstname': 'Jessica', 'initials': 'J', 'affiliation': 'DataLab, Nuffield Department Primary Care, Oxford OX2 6GG, UK.'}], 'methods': None, 'conclusions': None, 'results': None, 'copyrights': None, 'doi': '10.1177/0141076820930666', 'xml': <Element 'PubmedArticle' at 0x7f5e681a6a70>}, {'pubmed_id': '32616598\\n32265036\\n32139463\\n28117445\\n32077789\\n32216962\\n24355025\\n32217649\\n32217658\\n30104768\\n32222251\\n31986264\\n32139464', 'title': 'Using imaging to combat a pandemic: rationale for developing the UK National COVID-19 Chest Imaging Database.', 'abstract': None, 'keywords': [], 'journal': 'The European respiratory journal', 'publication_date': datetime.date(2020, 7, 4), 'authors': [{'lastname': 'Jacob', 'firstname': 'Joseph', 'initials': 'J', 'affiliation': 'Dept of Respiratory Medicine, University College London, London, UK j.jacob@ucl.ac.uk.\\nCentre for Medical Image Computing, Dept of Computer Science, University College London, London, UK.'}, {'lastname': 'Alexander', 'firstname': 'Daniel', 'initials': 'D', 'affiliation': 'Centre for Medical Image Computing, Dept of Computer Science, University College London, London, UK.'}, {'lastname': 'Baillie', 'firstname': 'J Kenneth', 'initials': 'JK', 'affiliation': 'Division of Genetics and Genomics, The Roslin Institute, University of Edinburgh, Edinburgh, UK.\\nCentre for Inflammation Research, University of Edinburgh, Edinburgh, UK.'}, {'lastname': 'Berka', 'firstname': 'Rosalind', 'initials': 'R', 'affiliation': 'Faculty, London, UK.'}, {'lastname': 'Bertolli', 'firstname': 'Ottavia', 'initials': 'O', 'affiliation': 'Faculty, London, UK.'}, {'lastname': 'Blackwood', 'firstname': 'James', 'initials': 'J', 'affiliation': 'The Industrial Centre for Artificial Intelligence Research in Digital Diagnostics (iCAIRD), Dept of eHealth, NHS Greater Glasgow and Clyde, Glasgow, UK.'}, {'lastname': 'Buchan', 'firstname': 'Iain', 'initials': 'I', 'affiliation': 'Institute of Population Health, University of Liverpool, Liverpool, UK.'}, {'lastname': 'Bloomfield', 'firstname': 'Claire', 'initials': 'C', 'affiliation': 'National Consortium of Intelligent Medical Imaging (NCIMI), The University of Oxford, Big Data Institute, Oxford, UK.'}, {'lastname': 'Cushnan', 'firstname': 'Dominic', 'initials': 'D', 'affiliation': 'NHSX, London, UK.'}, {'lastname': 'Docherty', 'firstname': 'Annemarie', 'initials': 'A', 'affiliation': 'Centre for Medical Informatics, Usher Institute, University of Edinburgh, Edinburgh, UK.'}, {'lastname': 'Edey', 'firstname': 'Anthony', 'initials': 'A', 'affiliation': 'Dept of Radiology, Southmead Hospital, North Bristol NHS Trust, Bristol, UK.'}, {'lastname': 'Favaro', 'firstname': 'Alberto', 'initials': 'A', 'affiliation': 'Faculty, London, UK.'}, {'lastname': 'Gleeson', 'firstname': 'Fergus', 'initials': 'F', 'affiliation': 'National Consortium of Intelligent Medical Imaging (NCIMI), The University of Oxford, Big Data Institute, Oxford, UK.\\nDept of Oncology, University of Oxford, Oxford, UK.'}, {'lastname': 'Halling-Brown', 'firstname': 'Mark', 'initials': 'M', 'affiliation': 'Scientific Computing, Royal Surrey NHS Foundation Trust, Guildford, UK.\\nCentre for Vision, Speech and Signal Processing (CVSSP), University of Surrey, Guildford, UK.'}, {'lastname': 'Hare', 'firstname': 'Samanjit', 'initials': 'S', 'affiliation': 'Dept of Radiology, Royal Free London NHS Trust, London, UK.'}, {'lastname': 'Jefferson', 'firstname': 'Emily', 'initials': 'E', 'affiliation': 'Health Data Research UK, London, UK.\\nHealth Informatics Centre (HIC), School of Medicine, University of Dundee, Dundee, UK.'}, {'lastname': 'Johnstone', 'firstname': 'Annette', 'initials': 'A', 'affiliation': 'Dept of Radiology, Leeds Teaching Hospitals NHS Trust, Leeds General Infirmary, Leeds, UK.'}, {'lastname': 'Kirby', 'firstname': 'Myles', 'initials': 'M', 'affiliation': 'Faculty, London, UK.'}, {'lastname': 'McStay', 'firstname': 'Ruth', 'initials': 'R', 'affiliation': 'Dept of Radiology, Freeman Hospital, Newcastle upon Tyne Hospitals NHS Foundation Trust, Newcastle upon Tyne, UK.'}, {'lastname': 'Nair', 'firstname': 'Arjun', 'initials': 'A', 'affiliation': 'Dept of Radiology, University College London Hospital, London, UK.'}, {'lastname': 'Openshaw', 'firstname': 'Peter J M', 'initials': 'PJM', 'affiliation': 'National Heart and Lung Institute, Faculty of Medicine, Imperial College London, London, UK.'}, {'lastname': 'Parker', 'firstname': 'Geoff', 'initials': 'G', 'affiliation': 'Centre for Medical Image Computing, Dept of Computer Science, University College London, London, UK.\\nBioxydyn Limited, Manchester, UK.'}, {'lastname': 'Reilly', 'firstname': 'Gerry', 'initials': 'G', 'affiliation': 'Health Data Research UK, London, UK.'}, {'lastname': 'Robinson', 'firstname': 'Graham', 'initials': 'G', 'affiliation': 'Dept of Radiology, Royal United Hospitals Bath NHS Foundation Trust, Bath, UK.'}, {'lastname': 'Roditi', 'firstname': 'Giles', 'initials': 'G', 'affiliation': 'Dept of Radiology, University of Glasgow, Glasgow Royal Infirmary, Glasgow, UK.'}, {'lastname': 'Rodrigues', 'firstname': 'Jonathan C L', 'initials': 'JCL', 'affiliation': 'Dept of Radiology, Royal United Hospitals Bath NHS Foundation Trust, Bath, UK.'}, {'lastname': 'Sebire', 'firstname': 'Neil', 'initials': 'N', 'affiliation': 'Health Data Research UK, London, UK.'}, {'lastname': 'Semple', 'firstname': 'Malcolm G', 'initials': 'MG', 'affiliation': 'NIHR Health Protection Research Unit in Emerging and Zoonotic Infections, Faculty of Health and Life Sciences, University of Liverpool, Liverpool, UK.'}, {'lastname': 'Sudlow', 'firstname': 'Catherine', 'initials': 'C', 'affiliation': 'Usher Institute, University of Edinburgh, Edinburgh, UK.\\nBritish Heart Foundation (BHF) Data Science Centre, Health Data Research UK, Edinburgh, UK.'}, {'lastname': 'Woznitza', 'firstname': 'Nick', 'initials': 'N', 'affiliation': 'Radiology Dept, Homerton University Hospital, London, UK.\\nSchool of Allied and Public Health Professions, Canterbury Christ Church University, Canterbury, UK.\\n12 NHS Nightingale Hospital London, London, UK.'}, {'lastname': 'Joshi', 'firstname': 'Indra', 'initials': 'I', 'affiliation': 'NHSX, London, UK.'}], 'methods': None, 'conclusions': None, 'results': None, 'copyrights': None, 'doi': '10.1183/13993003.01809-2020', 'xml': <Element 'PubmedArticle' at 0x7f5e681db770>}, {'pubmed_id': '32010451', 'title': 'Supporting early clinical careers in digital health: Nurturing the next generation.', 'abstract': None, 'keywords': [], 'journal': 'Digital health', 'publication_date': datetime.date(2020, 2, 6), 'authors': [{'lastname': 'Robbins', 'firstname': 'Tim', 'initials': 'T', 'affiliation': 'Institute of Digital Healthcare, WMG, University of Warwick, UK.'}, {'lastname': 'Zucker', 'firstname': 'Kieran', 'initials': 'K', 'affiliation': 'Leeds Institute for Data Analytics, University of Leeds, UK.'}, {'lastname': 'Abdulhussein', 'firstname': 'Hatim', 'initials': 'H', 'affiliation': 'Health Education England, UK.'}, {'lastname': 'Chaplin', 'firstname': 'Vicky', 'initials': 'V', 'affiliation': 'NHS London Procurement Partnership, UK.'}, {'lastname': 'Maguire', 'firstname': 'James', 'initials': 'J', 'affiliation': 'NHSX, UK.'}, {'lastname': 'Arvanitis', 'firstname': 'Theodoros N', 'initials': 'TN', 'affiliation': 'Institute of Digital Healthcare, WMG, University of Warwick, UK.'}], 'methods': None, 'conclusions': None, 'results': None, 'copyrights': None, 'doi': '10.1177/2055207619899798', 'xml': <Element 'PubmedArticle' at 0x7f5e681315f0>}]\n"
          ],
          "name": "stdout"
        }
      ]
    },
    {
      "cell_type": "code",
      "metadata": {
        "colab": {
          "base_uri": "https://localhost:8080/"
        },
        "id": "Ys7Gcgadmpz0",
        "outputId": "46680e2a-351d-49ba-8c8a-35f43d764737"
      },
      "source": [
        "!pip install Bio\n",
        "from Bio import Entrez"
      ],
      "execution_count": 5,
      "outputs": [
        {
          "output_type": "stream",
          "text": [
            "Collecting Bio\n",
            "\u001b[?25l  Downloading https://files.pythonhosted.org/packages/85/84/13d3aa585fcaa010577cfdc40f3211933fa4468e98f8e63576066b2a7ad1/bio-0.4.1-py3-none-any.whl (73kB)\n",
            "\u001b[K     |████████████████████████████████| 81kB 5.2MB/s \n",
            "\u001b[?25hCollecting biopython>=1.78\n",
            "\u001b[?25l  Downloading https://files.pythonhosted.org/packages/3a/cd/0098eaff841850c01da928c7f509b72fd3e1f51d77b772e24de9e2312471/biopython-1.78-cp37-cp37m-manylinux1_x86_64.whl (2.3MB)\n",
            "\u001b[K     |████████████████████████████████| 2.3MB 11.5MB/s \n",
            "\u001b[?25hRequirement already satisfied: numpy<1.20 in /usr/local/lib/python3.7/dist-packages (from Bio) (1.19.5)\n",
            "Requirement already satisfied: requests in /usr/local/lib/python3.7/dist-packages (from Bio) (2.23.0)\n",
            "Requirement already satisfied: urllib3!=1.25.0,!=1.25.1,<1.26,>=1.21.1 in /usr/local/lib/python3.7/dist-packages (from requests->Bio) (1.24.3)\n",
            "Requirement already satisfied: idna<3,>=2.5 in /usr/local/lib/python3.7/dist-packages (from requests->Bio) (2.10)\n",
            "Requirement already satisfied: certifi>=2017.4.17 in /usr/local/lib/python3.7/dist-packages (from requests->Bio) (2020.12.5)\n",
            "Requirement already satisfied: chardet<4,>=3.0.2 in /usr/local/lib/python3.7/dist-packages (from requests->Bio) (3.0.4)\n",
            "Installing collected packages: biopython, Bio\n",
            "Successfully installed Bio-0.4.1 biopython-1.78\n"
          ],
          "name": "stdout"
        }
      ]
    },
    {
      "cell_type": "code",
      "metadata": {
        "id": "sbufNURym1Qj",
        "colab": {
          "base_uri": "https://localhost:8080/",
          "height": 231
        },
        "outputId": "400acb46-3e92-4e5a-c789-b2a103900eb0"
      },
      "source": [
        "#https://gist.github.com/mcfrank/c1ec74df1427278cbe53\n",
        "Entrez.email = \"martina.fonseca@nhsx.nhs.uk\"\n",
        "\n",
        "def get_abstract(pmid):\n",
        "    handle = Entrez.efetch(db='pubmed', id=pmid, retmode='text', rettype='abstract')\n",
        "    return handle.read()\n",
        "\n",
        "def get_links_id(pmid):\n",
        "\tlink_list = []\n",
        "\tlinks = Entrez.elink(dbfrom=\"pubmed\", id=pmid, linkname=\"pubmed_pubmed\")\t\n",
        "\trecord = Entrez.read(links)\n",
        "\t\n",
        "\trecords = record[0][u'LinkSetDb'][0][u'Link']\n",
        "\n",
        "\tfor link in records:\n",
        "\t\tlink_list.append(link[u'Id'])\n",
        "\n",
        "\treturn link_list\n",
        "\n",
        "def get_links_term(term):\n",
        "\tlinks = Entrez.esearch(db=\"pubmed\", retmax = 1000, term=term)\t\n",
        "\trecord = Entrez.read(links)\n",
        "\t#link_list = record[u'IdList']\n",
        "\n",
        "\treturn record"
      ],
      "execution_count": 4,
      "outputs": [
        {
          "output_type": "error",
          "ename": "NameError",
          "evalue": "ignored",
          "traceback": [
            "\u001b[0;31m---------------------------------------------------------------------------\u001b[0m",
            "\u001b[0;31mNameError\u001b[0m                                 Traceback (most recent call last)",
            "\u001b[0;32m<ipython-input-4-64fdb9addce6>\u001b[0m in \u001b[0;36m<module>\u001b[0;34m()\u001b[0m\n\u001b[1;32m      1\u001b[0m \u001b[0;31m#https://gist.github.com/mcfrank/c1ec74df1427278cbe53\u001b[0m\u001b[0;34m\u001b[0m\u001b[0;34m\u001b[0m\u001b[0;34m\u001b[0m\u001b[0m\n\u001b[0;32m----> 2\u001b[0;31m \u001b[0mEntrez\u001b[0m\u001b[0;34m.\u001b[0m\u001b[0memail\u001b[0m \u001b[0;34m=\u001b[0m \u001b[0;34m\"martina.fonseca@nhsx.nhs.uk\"\u001b[0m\u001b[0;34m\u001b[0m\u001b[0;34m\u001b[0m\u001b[0m\n\u001b[0m\u001b[1;32m      3\u001b[0m \u001b[0;34m\u001b[0m\u001b[0m\n\u001b[1;32m      4\u001b[0m \u001b[0;32mdef\u001b[0m \u001b[0mget_abstract\u001b[0m\u001b[0;34m(\u001b[0m\u001b[0mpmid\u001b[0m\u001b[0;34m)\u001b[0m\u001b[0;34m:\u001b[0m\u001b[0;34m\u001b[0m\u001b[0;34m\u001b[0m\u001b[0m\n\u001b[1;32m      5\u001b[0m     \u001b[0mhandle\u001b[0m \u001b[0;34m=\u001b[0m \u001b[0mEntrez\u001b[0m\u001b[0;34m.\u001b[0m\u001b[0mefetch\u001b[0m\u001b[0;34m(\u001b[0m\u001b[0mdb\u001b[0m\u001b[0;34m=\u001b[0m\u001b[0;34m'pubmed'\u001b[0m\u001b[0;34m,\u001b[0m \u001b[0mid\u001b[0m\u001b[0;34m=\u001b[0m\u001b[0mpmid\u001b[0m\u001b[0;34m,\u001b[0m \u001b[0mretmode\u001b[0m\u001b[0;34m=\u001b[0m\u001b[0;34m'text'\u001b[0m\u001b[0;34m,\u001b[0m \u001b[0mrettype\u001b[0m\u001b[0;34m=\u001b[0m\u001b[0;34m'abstract'\u001b[0m\u001b[0;34m)\u001b[0m\u001b[0;34m\u001b[0m\u001b[0;34m\u001b[0m\u001b[0m\n",
            "\u001b[0;31mNameError\u001b[0m: name 'Entrez' is not defined"
          ]
        }
      ]
    },
    {
      "cell_type": "code",
      "metadata": {
        "colab": {
          "base_uri": "https://localhost:8080/",
          "height": 197
        },
        "id": "erSmuy4-nUFl",
        "outputId": "cfec8efe-a6d9-4770-e017-abfc820c1168"
      },
      "source": [
        "#similar to https://eutils.ncbi.nlm.nih.gov/entrez/eutils/esearch.fcgi?db=pmc&term=eye&tool=my_tool&email=my_email@example.com\n",
        "myrecord=get_links_term('nhsx[affiliation]')\n",
        "print(myrecord[u'IdList'])"
      ],
      "execution_count": 1,
      "outputs": [
        {
          "output_type": "error",
          "ename": "NameError",
          "evalue": "ignored",
          "traceback": [
            "\u001b[0;31m---------------------------------------------------------------------------\u001b[0m",
            "\u001b[0;31mNameError\u001b[0m                                 Traceback (most recent call last)",
            "\u001b[0;32m<ipython-input-1-2cc2039f2bbe>\u001b[0m in \u001b[0;36m<module>\u001b[0;34m()\u001b[0m\n\u001b[1;32m      1\u001b[0m \u001b[0;31m#similar to https://eutils.ncbi.nlm.nih.gov/entrez/eutils/esearch.fcgi?db=pmc&term=eye&tool=my_tool&email=my_email@example.com\u001b[0m\u001b[0;34m\u001b[0m\u001b[0;34m\u001b[0m\u001b[0;34m\u001b[0m\u001b[0m\n\u001b[0;32m----> 2\u001b[0;31m \u001b[0mmyrecord\u001b[0m\u001b[0;34m=\u001b[0m\u001b[0mget_links_term\u001b[0m\u001b[0;34m(\u001b[0m\u001b[0;34m'nhsx[affiliation]'\u001b[0m\u001b[0;34m)\u001b[0m\u001b[0;34m\u001b[0m\u001b[0;34m\u001b[0m\u001b[0m\n\u001b[0m\u001b[1;32m      3\u001b[0m \u001b[0mprint\u001b[0m\u001b[0;34m(\u001b[0m\u001b[0mmyrecord\u001b[0m\u001b[0;34m[\u001b[0m\u001b[0;34mu'IdList'\u001b[0m\u001b[0;34m]\u001b[0m\u001b[0;34m)\u001b[0m\u001b[0;34m\u001b[0m\u001b[0;34m\u001b[0m\u001b[0m\n",
            "\u001b[0;31mNameError\u001b[0m: name 'get_links_term' is not defined"
          ]
        }
      ]
    },
    {
      "cell_type": "code",
      "metadata": {
        "colab": {
          "base_uri": "https://localhost:8080/"
        },
        "id": "l6oFLW56oOTC",
        "outputId": "21fd1437-f159-468b-f487-42f6f0818233"
      },
      "source": [
        "handle = Entrez.esummary(db='pubmed',id='33094226',retmode=\"json\")\n",
        "mysummary=handle.read()\n",
        "print(mysummary)"
      ],
      "execution_count": null,
      "outputs": [
        {
          "output_type": "stream",
          "text": [
            "b'{\"header\":{\"type\":\"esummary\",\"version\":\"0.3\"},\"result\":{\"uids\":[\"33094226\"],\"33094226\":{\"uid\":\"33094226\",\"pubdate\":\"2020 Oct\",\"epubdate\":\"\",\"source\":\"Future Healthc J\",\"authors\":[{\"name\":\"Maguire J\",\"authtype\":\"Author\",\"clusterid\":\"\"}],\"lastauthor\":\"Maguire J\",\"title\":\"Digital health - a trainee\\'s perspective.\",\"sorttitle\":\"digital health a trainee s perspective\",\"volume\":\"7\",\"issue\":\"3\",\"pages\":\"202-203\",\"lang\":[\"eng\"],\"nlmuniqueid\":\"101711246\",\"issn\":\"2514-6645\",\"essn\":\"2514-6653\",\"pubtype\":[\"Journal Article\"],\"recordstatus\":\"PubMed\",\"pubstatus\":\"4\",\"articleids\":[{\"idtype\":\"pubmed\",\"idtypen\":1,\"value\":\"33094226\"},{\"idtype\":\"doi\",\"idtypen\":3,\"value\":\"10.7861/fhj.dig-2020-trai\"},{\"idtype\":\"pii\",\"idtypen\":4,\"value\":\"futurehealth\"},{\"idtype\":\"pmc\",\"idtypen\":8,\"value\":\"PMC7571731\"},{\"idtype\":\"rid\",\"idtypen\":8,\"value\":\"33094226\"},{\"idtype\":\"eid\",\"idtypen\":8,\"value\":\"33094226\"},{\"idtype\":\"pmcid\",\"idtypen\":5,\"value\":\"pmc-id: PMC7571731;\"}],\"history\":[{\"pubstatus\":\"entrez\",\"date\":\"2020/10/23 05:59\"},{\"pubstatus\":\"pubmed\",\"date\":\"2020/10/24 06:00\"},{\"pubstatus\":\"medline\",\"date\":\"2020/10/24 06:01\"}],\"references\":[],\"attributes\":[\"Has Abstract\"],\"pmcrefcount\":\"\",\"fulljournalname\":\"Future healthcare journal\",\"elocationid\":\"doi: 10.7861/fhj.dig-2020-trai\",\"doctype\":\"citation\",\"srccontriblist\":[],\"booktitle\":\"\",\"medium\":\"\",\"edition\":\"\",\"publisherlocation\":\"\",\"publishername\":\"\",\"srcdate\":\"\",\"reportnumber\":\"\",\"availablefromurl\":\"\",\"locationlabel\":\"\",\"doccontriblist\":[],\"docdate\":\"\",\"bookname\":\"\",\"chapter\":\"\",\"sortpubdate\":\"2020/10/01 00:00\",\"sortfirstauthor\":\"Maguire J\",\"vernaculartitle\":\"\"}}}\\n'\n"
          ],
          "name": "stdout"
        }
      ]
    },
    {
      "cell_type": "code",
      "metadata": {
        "colab": {
          "base_uri": "https://localhost:8080/"
        },
        "id": "i0WIH2ytp-rw",
        "outputId": "223cad82-a253-4629-9828-7b7b98b1735b"
      },
      "source": [
        "print(get_links_id(\"33094226\"))"
      ],
      "execution_count": null,
      "outputs": [
        {
          "output_type": "stream",
          "text": [
            "['33094226', '21781388', '29724664', '21210246', '29400273', '26129814', '33582730', '29297319', '31456090', '32417926', '32986342', '24475764', '22297784', '27191838', '33076893', '24294678', '24052551', '30394272', '26447007', '28891661', '17538823', '32934977', '23988632', '31133906', '15618086', '28952671', '12430196', '11328522', '28110854', '27836238', '26734408', '30983476', '20236792', '22101103', '12965165', '31182093', '23672468', '29553669', '28549464', '29792259', '12835875', '27606391', '14741793', '29653248', '11904253', '29334953', '15659905', '29062535', '25901798', '23342404', '32628374', '29902096', '30979635', '10554729', '30800886', '29304729', '24807942', '20128719', '9479334', '25073019', '22139309', '27606388', '31429410', '29174856', '19686251', '31304327', '32965233', '27506900', '24988421', '29313497', '25723379', '24720058', '25833386', '21549984', '30270102', '19473852', '31763205', '24797842', '27532314', '33687289', '12028088', '31038467', '7655808', '23163971', '871123', '31098287', '29730180', '31806649', '31815733', '15718777', '30131057', '30125902', '23860055', '33356713', '33234522', '32141307', '32902177']\n"
          ],
          "name": "stdout"
        }
      ]
    },
    {
      "cell_type": "code",
      "metadata": {
        "colab": {
          "base_uri": "https://localhost:8080/"
        },
        "id": "dQltwy9tr4jX",
        "outputId": "d08b238b-aedd-4d8b-ce12-6efb8b21925e"
      },
      "source": [
        "link_list = []\n",
        "links = Entrez.elink(dbfrom=\"pubmed\", id=\"21876726\", linkname=\"pubmed_pmc_refs\")\n",
        "print(links.read())"
      ],
      "execution_count": null,
      "outputs": [
        {
          "output_type": "stream",
          "text": [
            "b'<?xml version=\"1.0\" encoding=\"UTF-8\" ?>\\n<!DOCTYPE eLinkResult PUBLIC \"-//NLM//DTD elink 20101123//EN\" \"https://eutils.ncbi.nlm.nih.gov/eutils/dtd/20101123/elink.dtd\">\\n<eLinkResult>\\n\\n  <LinkSet>\\n    <DbFrom>pubmed</DbFrom>\\n    <IdList>\\n      <Id>21876726</Id>\\n    </IdList>\\n    <LinkSetDb>\\n      <DbTo>pmc</DbTo>\\n      <LinkName>pubmed_pmc_refs</LinkName>\\n      \\n        <Link>\\n\\t\\t\\t\\t<Id>8071896</Id>\\n\\t\\t\\t</Link>\\n        <Link>\\n\\t\\t\\t\\t<Id>8025741</Id>\\n\\t\\t\\t</Link>\\n        <Link>\\n\\t\\t\\t\\t<Id>8023533</Id>\\n\\t\\t\\t</Link>\\n        <Link>\\n\\t\\t\\t\\t<Id>7998656</Id>\\n\\t\\t\\t</Link>\\n        <Link>\\n\\t\\t\\t\\t<Id>7994852</Id>\\n\\t\\t\\t</Link>\\n        <Link>\\n\\t\\t\\t\\t<Id>7958126</Id>\\n\\t\\t\\t</Link>\\n        <Link>\\n\\t\\t\\t\\t<Id>7944561</Id>\\n\\t\\t\\t</Link>\\n        <Link>\\n\\t\\t\\t\\t<Id>7944388</Id>\\n\\t\\t\\t</Link>\\n        <Link>\\n\\t\\t\\t\\t<Id>7906989</Id>\\n\\t\\t\\t</Link>\\n        <Link>\\n\\t\\t\\t\\t<Id>7905690</Id>\\n\\t\\t\\t</Link>\\n        <Link>\\n\\t\\t\\t\\t<Id>7901554</Id>\\n\\t\\t\\t</Link>\\n        <Link>\\n\\t\\t\\t\\t<Id>7887693</Id>\\n\\t\\t\\t</Link>\\n        <Link>\\n\\t\\t\\t\\t<Id>7840842</Id>\\n\\t\\t\\t</Link>\\n        <Link>\\n\\t\\t\\t\\t<Id>7814576</Id>\\n\\t\\t\\t</Link>\\n        <Link>\\n\\t\\t\\t\\t<Id>7783313</Id>\\n\\t\\t\\t</Link>\\n        <Link>\\n\\t\\t\\t\\t<Id>7774862</Id>\\n\\t\\t\\t</Link>\\n        <Link>\\n\\t\\t\\t\\t<Id>7753098</Id>\\n\\t\\t\\t</Link>\\n        <Link>\\n\\t\\t\\t\\t<Id>7744002</Id>\\n\\t\\t\\t</Link>\\n        <Link>\\n\\t\\t\\t\\t<Id>7734763</Id>\\n\\t\\t\\t</Link>\\n        <Link>\\n\\t\\t\\t\\t<Id>7695640</Id>\\n\\t\\t\\t</Link>\\n        <Link>\\n\\t\\t\\t\\t<Id>7692229</Id>\\n\\t\\t\\t</Link>\\n        <Link>\\n\\t\\t\\t\\t<Id>7595554</Id>\\n\\t\\t\\t</Link>\\n        <Link>\\n\\t\\t\\t\\t<Id>7578871</Id>\\n\\t\\t\\t</Link>\\n        <Link>\\n\\t\\t\\t\\t<Id>7564998</Id>\\n\\t\\t\\t</Link>\\n        <Link>\\n\\t\\t\\t\\t<Id>7556308</Id>\\n\\t\\t\\t</Link>\\n        <Link>\\n\\t\\t\\t\\t<Id>7523352</Id>\\n\\t\\t\\t</Link>\\n        <Link>\\n\\t\\t\\t\\t<Id>7519665</Id>\\n\\t\\t\\t</Link>\\n        <Link>\\n\\t\\t\\t\\t<Id>7496643</Id>\\n\\t\\t\\t</Link>\\n        <Link>\\n\\t\\t\\t\\t<Id>7431678</Id>\\n\\t\\t\\t</Link>\\n        <Link>\\n\\t\\t\\t\\t<Id>7414114</Id>\\n\\t\\t\\t</Link>\\n        <Link>\\n\\t\\t\\t\\t<Id>7412956</Id>\\n\\t\\t\\t</Link>\\n        <Link>\\n\\t\\t\\t\\t<Id>7409063</Id>\\n\\t\\t\\t</Link>\\n        <Link>\\n\\t\\t\\t\\t<Id>7400702</Id>\\n\\t\\t\\t</Link>\\n        <Link>\\n\\t\\t\\t\\t<Id>7391522</Id>\\n\\t\\t\\t</Link>\\n        <Link>\\n\\t\\t\\t\\t<Id>7378182</Id>\\n\\t\\t\\t</Link>\\n        <Link>\\n\\t\\t\\t\\t<Id>7362528</Id>\\n\\t\\t\\t</Link>\\n        <Link>\\n\\t\\t\\t\\t<Id>7347774</Id>\\n\\t\\t\\t</Link>\\n        <Link>\\n\\t\\t\\t\\t<Id>7345075</Id>\\n\\t\\t\\t</Link>\\n        <Link>\\n\\t\\t\\t\\t<Id>7340524</Id>\\n\\t\\t\\t</Link>\\n        <Link>\\n\\t\\t\\t\\t<Id>7318537</Id>\\n\\t\\t\\t</Link>\\n        <Link>\\n\\t\\t\\t\\t<Id>7313400</Id>\\n\\t\\t\\t</Link>\\n        <Link>\\n\\t\\t\\t\\t<Id>7304098</Id>\\n\\t\\t\\t</Link>\\n        <Link>\\n\\t\\t\\t\\t<Id>7302792</Id>\\n\\t\\t\\t</Link>\\n        <Link>\\n\\t\\t\\t\\t<Id>7283084</Id>\\n\\t\\t\\t</Link>\\n        <Link>\\n\\t\\t\\t\\t<Id>7277307</Id>\\n\\t\\t\\t</Link>\\n        <Link>\\n\\t\\t\\t\\t<Id>7227815</Id>\\n\\t\\t\\t</Link>\\n        <Link>\\n\\t\\t\\t\\t<Id>7226815</Id>\\n\\t\\t\\t</Link>\\n        <Link>\\n\\t\\t\\t\\t<Id>7226573</Id>\\n\\t\\t\\t</Link>\\n        <Link>\\n\\t\\t\\t\\t<Id>7225259</Id>\\n\\t\\t\\t</Link>\\n        <Link>\\n\\t\\t\\t\\t<Id>7217362</Id>\\n\\t\\t\\t</Link>\\n        <Link>\\n\\t\\t\\t\\t<Id>7205224</Id>\\n\\t\\t\\t</Link>\\n        <Link>\\n\\t\\t\\t\\t<Id>7196212</Id>\\n\\t\\t\\t</Link>\\n        <Link>\\n\\t\\t\\t\\t<Id>7186296</Id>\\n\\t\\t\\t</Link>\\n        <Link>\\n\\t\\t\\t\\t<Id>7183550</Id>\\n\\t\\t\\t</Link>\\n        <Link>\\n\\t\\t\\t\\t<Id>7181663</Id>\\n\\t\\t\\t</Link>\\n        <Link>\\n\\t\\t\\t\\t<Id>7145962</Id>\\n\\t\\t\\t</Link>\\n        <Link>\\n\\t\\t\\t\\t<Id>7099601</Id>\\n\\t\\t\\t</Link>\\n        <Link>\\n\\t\\t\\t\\t<Id>7090279</Id>\\n\\t\\t\\t</Link>\\n        <Link>\\n\\t\\t\\t\\t<Id>7081927</Id>\\n\\t\\t\\t</Link>\\n        <Link>\\n\\t\\t\\t\\t<Id>7072607</Id>\\n\\t\\t\\t</Link>\\n        <Link>\\n\\t\\t\\t\\t<Id>7068154</Id>\\n\\t\\t\\t</Link>\\n        <Link>\\n\\t\\t\\t\\t<Id>7048814</Id>\\n\\t\\t\\t</Link>\\n        <Link>\\n\\t\\t\\t\\t<Id>7016778</Id>\\n\\t\\t\\t</Link>\\n        <Link>\\n\\t\\t\\t\\t<Id>6996099</Id>\\n\\t\\t\\t</Link>\\n        <Link>\\n\\t\\t\\t\\t<Id>6991626</Id>\\n\\t\\t\\t</Link>\\n        <Link>\\n\\t\\t\\t\\t<Id>6942270</Id>\\n\\t\\t\\t</Link>\\n        <Link>\\n\\t\\t\\t\\t<Id>6918866</Id>\\n\\t\\t\\t</Link>\\n        <Link>\\n\\t\\t\\t\\t<Id>6912723</Id>\\n\\t\\t\\t</Link>\\n        <Link>\\n\\t\\t\\t\\t<Id>6902397</Id>\\n\\t\\t\\t</Link>\\n        <Link>\\n\\t\\t\\t\\t<Id>6900535</Id>\\n\\t\\t\\t</Link>\\n        <Link>\\n\\t\\t\\t\\t<Id>6888613</Id>\\n\\t\\t\\t</Link>\\n        <Link>\\n\\t\\t\\t\\t<Id>6872767</Id>\\n\\t\\t\\t</Link>\\n        <Link>\\n\\t\\t\\t\\t<Id>6858646</Id>\\n\\t\\t\\t</Link>\\n        <Link>\\n\\t\\t\\t\\t<Id>6854698</Id>\\n\\t\\t\\t</Link>\\n        <Link>\\n\\t\\t\\t\\t<Id>6843021</Id>\\n\\t\\t\\t</Link>\\n        <Link>\\n\\t\\t\\t\\t<Id>6831938</Id>\\n\\t\\t\\t</Link>\\n        <Link>\\n\\t\\t\\t\\t<Id>6828747</Id>\\n\\t\\t\\t</Link>\\n        <Link>\\n\\t\\t\\t\\t<Id>6828701</Id>\\n\\t\\t\\t</Link>\\n        <Link>\\n\\t\\t\\t\\t<Id>6815838</Id>\\n\\t\\t\\t</Link>\\n        <Link>\\n\\t\\t\\t\\t<Id>6794619</Id>\\n\\t\\t\\t</Link>\\n        <Link>\\n\\t\\t\\t\\t<Id>6785768</Id>\\n\\t\\t\\t</Link>\\n        <Link>\\n\\t\\t\\t\\t<Id>6784011</Id>\\n\\t\\t\\t</Link>\\n        <Link>\\n\\t\\t\\t\\t<Id>6780992</Id>\\n\\t\\t\\t</Link>\\n        <Link>\\n\\t\\t\\t\\t<Id>6753017</Id>\\n\\t\\t\\t</Link>\\n        <Link>\\n\\t\\t\\t\\t<Id>6745844</Id>\\n\\t\\t\\t</Link>\\n        <Link>\\n\\t\\t\\t\\t<Id>6739429</Id>\\n\\t\\t\\t</Link>\\n        <Link>\\n\\t\\t\\t\\t<Id>6708438</Id>\\n\\t\\t\\t</Link>\\n        <Link>\\n\\t\\t\\t\\t<Id>6694442</Id>\\n\\t\\t\\t</Link>\\n        <Link>\\n\\t\\t\\t\\t<Id>6688994</Id>\\n\\t\\t\\t</Link>\\n        <Link>\\n\\t\\t\\t\\t<Id>6627924</Id>\\n\\t\\t\\t</Link>\\n        <Link>\\n\\t\\t\\t\\t<Id>6627787</Id>\\n\\t\\t\\t</Link>\\n        <Link>\\n\\t\\t\\t\\t<Id>6609620</Id>\\n\\t\\t\\t</Link>\\n        <Link>\\n\\t\\t\\t\\t<Id>6604862</Id>\\n\\t\\t\\t</Link>\\n        <Link>\\n\\t\\t\\t\\t<Id>6591556</Id>\\n\\t\\t\\t</Link>\\n        <Link>\\n\\t\\t\\t\\t<Id>6566274</Id>\\n\\t\\t\\t</Link>\\n        <Link>\\n\\t\\t\\t\\t<Id>6548868</Id>\\n\\t\\t\\t</Link>\\n        <Link>\\n\\t\\t\\t\\t<Id>6541292</Id>\\n\\t\\t\\t</Link>\\n        <Link>\\n\\t\\t\\t\\t<Id>6491393</Id>\\n\\t\\t\\t</Link>\\n        <Link>\\n\\t\\t\\t\\t<Id>6488179</Id>\\n\\t\\t\\t</Link>\\n        <Link>\\n\\t\\t\\t\\t<Id>6454737</Id>\\n\\t\\t\\t</Link>\\n        <Link>\\n\\t\\t\\t\\t<Id>6433537</Id>\\n\\t\\t\\t</Link>\\n        <Link>\\n\\t\\t\\t\\t<Id>6428090</Id>\\n\\t\\t\\t</Link>\\n        <Link>\\n\\t\\t\\t\\t<Id>6394792</Id>\\n\\t\\t\\t</Link>\\n        <Link>\\n\\t\\t\\t\\t<Id>6386845</Id>\\n\\t\\t\\t</Link>\\n        <Link>\\n\\t\\t\\t\\t<Id>6381937</Id>\\n\\t\\t\\t</Link>\\n        <Link>\\n\\t\\t\\t\\t<Id>6359271</Id>\\n\\t\\t\\t</Link>\\n        <Link>\\n\\t\\t\\t\\t<Id>6349164</Id>\\n\\t\\t\\t</Link>\\n        <Link>\\n\\t\\t\\t\\t<Id>6345809</Id>\\n\\t\\t\\t</Link>\\n        <Link>\\n\\t\\t\\t\\t<Id>6332863</Id>\\n\\t\\t\\t</Link>\\n        <Link>\\n\\t\\t\\t\\t<Id>6325302</Id>\\n\\t\\t\\t</Link>\\n        <Link>\\n\\t\\t\\t\\t<Id>6317223</Id>\\n\\t\\t\\t</Link>\\n        <Link>\\n\\t\\t\\t\\t<Id>6305133</Id>\\n\\t\\t\\t</Link>\\n        <Link>\\n\\t\\t\\t\\t<Id>6302004</Id>\\n\\t\\t\\t</Link>\\n        <Link>\\n\\t\\t\\t\\t<Id>6299201</Id>\\n\\t\\t\\t</Link>\\n        <Link>\\n\\t\\t\\t\\t<Id>6277517</Id>\\n\\t\\t\\t</Link>\\n        <Link>\\n\\t\\t\\t\\t<Id>6251105</Id>\\n\\t\\t\\t</Link>\\n        <Link>\\n\\t\\t\\t\\t<Id>6249419</Id>\\n\\t\\t\\t</Link>\\n        <Link>\\n\\t\\t\\t\\t<Id>6234778</Id>\\n\\t\\t\\t</Link>\\n        <Link>\\n\\t\\t\\t\\t<Id>6205447</Id>\\n\\t\\t\\t</Link>\\n        <Link>\\n\\t\\t\\t\\t<Id>6205207</Id>\\n\\t\\t\\t</Link>\\n        <Link>\\n\\t\\t\\t\\t<Id>6198229</Id>\\n\\t\\t\\t</Link>\\n        <Link>\\n\\t\\t\\t\\t<Id>6187740</Id>\\n\\t\\t\\t</Link>\\n        <Link>\\n\\t\\t\\t\\t<Id>6182003</Id>\\n\\t\\t\\t</Link>\\n        <Link>\\n\\t\\t\\t\\t<Id>6164282</Id>\\n\\t\\t\\t</Link>\\n        <Link>\\n\\t\\t\\t\\t<Id>6150479</Id>\\n\\t\\t\\t</Link>\\n        <Link>\\n\\t\\t\\t\\t<Id>6096814</Id>\\n\\t\\t\\t</Link>\\n        <Link>\\n\\t\\t\\t\\t<Id>6092208</Id>\\n\\t\\t\\t</Link>\\n        <Link>\\n\\t\\t\\t\\t<Id>6089553</Id>\\n\\t\\t\\t</Link>\\n        <Link>\\n\\t\\t\\t\\t<Id>6083546</Id>\\n\\t\\t\\t</Link>\\n        <Link>\\n\\t\\t\\t\\t<Id>6055191</Id>\\n\\t\\t\\t</Link>\\n        <Link>\\n\\t\\t\\t\\t<Id>6048473</Id>\\n\\t\\t\\t</Link>\\n        <Link>\\n\\t\\t\\t\\t<Id>6045325</Id>\\n\\t\\t\\t</Link>\\n        <Link>\\n\\t\\t\\t\\t<Id>6038041</Id>\\n\\t\\t\\t</Link>\\n        <Link>\\n\\t\\t\\t\\t<Id>6036139</Id>\\n\\t\\t\\t</Link>\\n        <Link>\\n\\t\\t\\t\\t<Id>6032513</Id>\\n\\t\\t\\t</Link>\\n        <Link>\\n\\t\\t\\t\\t<Id>6029891</Id>\\n\\t\\t\\t</Link>\\n        <Link>\\n\\t\\t\\t\\t<Id>6008571</Id>\\n\\t\\t\\t</Link>\\n        <Link>\\n\\t\\t\\t\\t<Id>5991072</Id>\\n\\t\\t\\t</Link>\\n        <Link>\\n\\t\\t\\t\\t<Id>5940186</Id>\\n\\t\\t\\t</Link>\\n        <Link>\\n\\t\\t\\t\\t<Id>5922373</Id>\\n\\t\\t\\t</Link>\\n        <Link>\\n\\t\\t\\t\\t<Id>5912192</Id>\\n\\t\\t\\t</Link>\\n        <Link>\\n\\t\\t\\t\\t<Id>5903829</Id>\\n\\t\\t\\t</Link>\\n        <Link>\\n\\t\\t\\t\\t<Id>5887919</Id>\\n\\t\\t\\t</Link>\\n        <Link>\\n\\t\\t\\t\\t<Id>5880298</Id>\\n\\t\\t\\t</Link>\\n        <Link>\\n\\t\\t\\t\\t<Id>5859015</Id>\\n\\t\\t\\t</Link>\\n        <Link>\\n\\t\\t\\t\\t<Id>5855813</Id>\\n\\t\\t\\t</Link>\\n        <Link>\\n\\t\\t\\t\\t<Id>5842184</Id>\\n\\t\\t\\t</Link>\\n        <Link>\\n\\t\\t\\t\\t<Id>5836374</Id>\\n\\t\\t\\t</Link>\\n        <Link>\\n\\t\\t\\t\\t<Id>5835801</Id>\\n\\t\\t\\t</Link>\\n        <Link>\\n\\t\\t\\t\\t<Id>5818524</Id>\\n\\t\\t\\t</Link>\\n        <Link>\\n\\t\\t\\t\\t<Id>5809724</Id>\\n\\t\\t\\t</Link>\\n        <Link>\\n\\t\\t\\t\\t<Id>5804051</Id>\\n\\t\\t\\t</Link>\\n        <Link>\\n\\t\\t\\t\\t<Id>5801828</Id>\\n\\t\\t\\t</Link>\\n        <Link>\\n\\t\\t\\t\\t<Id>5790938</Id>\\n\\t\\t\\t</Link>\\n        <Link>\\n\\t\\t\\t\\t<Id>5783023</Id>\\n\\t\\t\\t</Link>\\n        <Link>\\n\\t\\t\\t\\t<Id>5780426</Id>\\n\\t\\t\\t</Link>\\n        <Link>\\n\\t\\t\\t\\t<Id>5754134</Id>\\n\\t\\t\\t</Link>\\n        <Link>\\n\\t\\t\\t\\t<Id>5745058</Id>\\n\\t\\t\\t</Link>\\n        <Link>\\n\\t\\t\\t\\t<Id>5717444</Id>\\n\\t\\t\\t</Link>\\n        <Link>\\n\\t\\t\\t\\t<Id>5712011</Id>\\n\\t\\t\\t</Link>\\n        <Link>\\n\\t\\t\\t\\t<Id>5706431</Id>\\n\\t\\t\\t</Link>\\n        <Link>\\n\\t\\t\\t\\t<Id>5688943</Id>\\n\\t\\t\\t</Link>\\n        <Link>\\n\\t\\t\\t\\t<Id>5666769</Id>\\n\\t\\t\\t</Link>\\n        <Link>\\n\\t\\t\\t\\t<Id>5662033</Id>\\n\\t\\t\\t</Link>\\n        <Link>\\n\\t\\t\\t\\t<Id>5660123</Id>\\n\\t\\t\\t</Link>\\n        <Link>\\n\\t\\t\\t\\t<Id>5648287</Id>\\n\\t\\t\\t</Link>\\n        <Link>\\n\\t\\t\\t\\t<Id>5640880</Id>\\n\\t\\t\\t</Link>\\n        <Link>\\n\\t\\t\\t\\t<Id>5621885</Id>\\n\\t\\t\\t</Link>\\n        <Link>\\n\\t\\t\\t\\t<Id>5618269</Id>\\n\\t\\t\\t</Link>\\n        <Link>\\n\\t\\t\\t\\t<Id>5610870</Id>\\n\\t\\t\\t</Link>\\n        <Link>\\n\\t\\t\\t\\t<Id>5599553</Id>\\n\\t\\t\\t</Link>\\n        <Link>\\n\\t\\t\\t\\t<Id>5579732</Id>\\n\\t\\t\\t</Link>\\n        <Link>\\n\\t\\t\\t\\t<Id>5570485</Id>\\n\\t\\t\\t</Link>\\n        <Link>\\n\\t\\t\\t\\t<Id>5548323</Id>\\n\\t\\t\\t</Link>\\n        <Link>\\n\\t\\t\\t\\t<Id>5548308</Id>\\n\\t\\t\\t</Link>\\n        <Link>\\n\\t\\t\\t\\t<Id>5537487</Id>\\n\\t\\t\\t</Link>\\n        <Link>\\n\\t\\t\\t\\t<Id>5522217</Id>\\n\\t\\t\\t</Link>\\n        <Link>\\n\\t\\t\\t\\t<Id>5519199</Id>\\n\\t\\t\\t</Link>\\n        <Link>\\n\\t\\t\\t\\t<Id>5517456</Id>\\n\\t\\t\\t</Link>\\n        <Link>\\n\\t\\t\\t\\t<Id>5489338</Id>\\n\\t\\t\\t</Link>\\n        <Link>\\n\\t\\t\\t\\t<Id>5466984</Id>\\n\\t\\t\\t</Link>\\n        <Link>\\n\\t\\t\\t\\t<Id>5463428</Id>\\n\\t\\t\\t</Link>\\n        <Link>\\n\\t\\t\\t\\t<Id>5454934</Id>\\n\\t\\t\\t</Link>\\n        <Link>\\n\\t\\t\\t\\t<Id>5426696</Id>\\n\\t\\t\\t</Link>\\n        <Link>\\n\\t\\t\\t\\t<Id>5420547</Id>\\n\\t\\t\\t</Link>\\n        <Link>\\n\\t\\t\\t\\t<Id>5390430</Id>\\n\\t\\t\\t</Link>\\n        <Link>\\n\\t\\t\\t\\t<Id>5370134</Id>\\n\\t\\t\\t</Link>\\n        <Link>\\n\\t\\t\\t\\t<Id>5363297</Id>\\n\\t\\t\\t</Link>\\n        <Link>\\n\\t\\t\\t\\t<Id>5353755</Id>\\n\\t\\t\\t</Link>\\n        <Link>\\n\\t\\t\\t\\t<Id>5341331</Id>\\n\\t\\t\\t</Link>\\n        <Link>\\n\\t\\t\\t\\t<Id>5309960</Id>\\n\\t\\t\\t</Link>\\n        <Link>\\n\\t\\t\\t\\t<Id>5291278</Id>\\n\\t\\t\\t</Link>\\n        <Link>\\n\\t\\t\\t\\t<Id>5244794</Id>\\n\\t\\t\\t</Link>\\n        <Link>\\n\\t\\t\\t\\t<Id>5222964</Id>\\n\\t\\t\\t</Link>\\n        <Link>\\n\\t\\t\\t\\t<Id>5154766</Id>\\n\\t\\t\\t</Link>\\n        <Link>\\n\\t\\t\\t\\t<Id>5147504</Id>\\n\\t\\t\\t</Link>\\n        <Link>\\n\\t\\t\\t\\t<Id>5131095</Id>\\n\\t\\t\\t</Link>\\n        <Link>\\n\\t\\t\\t\\t<Id>5114451</Id>\\n\\t\\t\\t</Link>\\n        <Link>\\n\\t\\t\\t\\t<Id>5110222</Id>\\n\\t\\t\\t</Link>\\n        <Link>\\n\\t\\t\\t\\t<Id>5101684</Id>\\n\\t\\t\\t</Link>\\n        <Link>\\n\\t\\t\\t\\t<Id>5066681</Id>\\n\\t\\t\\t</Link>\\n        <Link>\\n\\t\\t\\t\\t<Id>5047747</Id>\\n\\t\\t\\t</Link>\\n        <Link>\\n\\t\\t\\t\\t<Id>5047620</Id>\\n\\t\\t\\t</Link>\\n        <Link>\\n\\t\\t\\t\\t<Id>5035490</Id>\\n\\t\\t\\t</Link>\\n        <Link>\\n\\t\\t\\t\\t<Id>4994100</Id>\\n\\t\\t\\t</Link>\\n        <Link>\\n\\t\\t\\t\\t<Id>4992611</Id>\\n\\t\\t\\t</Link>\\n        <Link>\\n\\t\\t\\t\\t<Id>4991373</Id>\\n\\t\\t\\t</Link>\\n        <Link>\\n\\t\\t\\t\\t<Id>4990609</Id>\\n\\t\\t\\t</Link>\\n        <Link>\\n\\t\\t\\t\\t<Id>4980326</Id>\\n\\t\\t\\t</Link>\\n        <Link>\\n\\t\\t\\t\\t<Id>4967388</Id>\\n\\t\\t\\t</Link>\\n        <Link>\\n\\t\\t\\t\\t<Id>4966537</Id>\\n\\t\\t\\t</Link>\\n        <Link>\\n\\t\\t\\t\\t<Id>4964959</Id>\\n\\t\\t\\t</Link>\\n        <Link>\\n\\t\\t\\t\\t<Id>4949450</Id>\\n\\t\\t\\t</Link>\\n        <Link>\\n\\t\\t\\t\\t<Id>4947197</Id>\\n\\t\\t\\t</Link>\\n        <Link>\\n\\t\\t\\t\\t<Id>4921266</Id>\\n\\t\\t\\t</Link>\\n        <Link>\\n\\t\\t\\t\\t<Id>4913210</Id>\\n\\t\\t\\t</Link>\\n        <Link>\\n\\t\\t\\t\\t<Id>4911875</Id>\\n\\t\\t\\t</Link>\\n        <Link>\\n\\t\\t\\t\\t<Id>4888965</Id>\\n\\t\\t\\t</Link>\\n        <Link>\\n\\t\\t\\t\\t<Id>4888503</Id>\\n\\t\\t\\t</Link>\\n        <Link>\\n\\t\\t\\t\\t<Id>4887680</Id>\\n\\t\\t\\t</Link>\\n        <Link>\\n\\t\\t\\t\\t<Id>4881453</Id>\\n\\t\\t\\t</Link>\\n        <Link>\\n\\t\\t\\t\\t<Id>4875887</Id>\\n\\t\\t\\t</Link>\\n        <Link>\\n\\t\\t\\t\\t<Id>4867787</Id>\\n\\t\\t\\t</Link>\\n        <Link>\\n\\t\\t\\t\\t<Id>4859755</Id>\\n\\t\\t\\t</Link>\\n        <Link>\\n\\t\\t\\t\\t<Id>4859494</Id>\\n\\t\\t\\t</Link>\\n        <Link>\\n\\t\\t\\t\\t<Id>4853860</Id>\\n\\t\\t\\t</Link>\\n        <Link>\\n\\t\\t\\t\\t<Id>4840335</Id>\\n\\t\\t\\t</Link>\\n        <Link>\\n\\t\\t\\t\\t<Id>4834364</Id>\\n\\t\\t\\t</Link>\\n        <Link>\\n\\t\\t\\t\\t<Id>4811151</Id>\\n\\t\\t\\t</Link>\\n        <Link>\\n\\t\\t\\t\\t<Id>4797991</Id>\\n\\t\\t\\t</Link>\\n        <Link>\\n\\t\\t\\t\\t<Id>4773778</Id>\\n\\t\\t\\t</Link>\\n        <Link>\\n\\t\\t\\t\\t<Id>4773204</Id>\\n\\t\\t\\t</Link>\\n        <Link>\\n\\t\\t\\t\\t<Id>4765724</Id>\\n\\t\\t\\t</Link>\\n        <Link>\\n\\t\\t\\t\\t<Id>4745815</Id>\\n\\t\\t\\t</Link>\\n        <Link>\\n\\t\\t\\t\\t<Id>4716143</Id>\\n\\t\\t\\t</Link>\\n        <Link>\\n\\t\\t\\t\\t<Id>4709998</Id>\\n\\t\\t\\t</Link>\\n        <Link>\\n\\t\\t\\t\\t<Id>4692419</Id>\\n\\t\\t\\t</Link>\\n        <Link>\\n\\t\\t\\t\\t<Id>4685040</Id>\\n\\t\\t\\t</Link>\\n        <Link>\\n\\t\\t\\t\\t<Id>4675626</Id>\\n\\t\\t\\t</Link>\\n        <Link>\\n\\t\\t\\t\\t<Id>4656109</Id>\\n\\t\\t\\t</Link>\\n        <Link>\\n\\t\\t\\t\\t<Id>4655533</Id>\\n\\t\\t\\t</Link>\\n        <Link>\\n\\t\\t\\t\\t<Id>4642616</Id>\\n\\t\\t\\t</Link>\\n        <Link>\\n\\t\\t\\t\\t<Id>4637461</Id>\\n\\t\\t\\t</Link>\\n        <Link>\\n\\t\\t\\t\\t<Id>4625016</Id>\\n\\t\\t\\t</Link>\\n        <Link>\\n\\t\\t\\t\\t<Id>4594673</Id>\\n\\t\\t\\t</Link>\\n        <Link>\\n\\t\\t\\t\\t<Id>4587316</Id>\\n\\t\\t\\t</Link>\\n        <Link>\\n\\t\\t\\t\\t<Id>4578249</Id>\\n\\t\\t\\t</Link>\\n        <Link>\\n\\t\\t\\t\\t<Id>4578234</Id>\\n\\t\\t\\t</Link>\\n        <Link>\\n\\t\\t\\t\\t<Id>4577581</Id>\\n\\t\\t\\t</Link>\\n        <Link>\\n\\t\\t\\t\\t<Id>4572411</Id>\\n\\t\\t\\t</Link>\\n        <Link>\\n\\t\\t\\t\\t<Id>4550760</Id>\\n\\t\\t\\t</Link>\\n        <Link>\\n\\t\\t\\t\\t<Id>4514545</Id>\\n\\t\\t\\t</Link>\\n        <Link>\\n\\t\\t\\t\\t<Id>4500606</Id>\\n\\t\\t\\t</Link>\\n        <Link>\\n\\t\\t\\t\\t<Id>4496044</Id>\\n\\t\\t\\t</Link>\\n        <Link>\\n\\t\\t\\t\\t<Id>4463923</Id>\\n\\t\\t\\t</Link>\\n        <Link>\\n\\t\\t\\t\\t<Id>4454760</Id>\\n\\t\\t\\t</Link>\\n        <Link>\\n\\t\\t\\t\\t<Id>4449452</Id>\\n\\t\\t\\t</Link>\\n        <Link>\\n\\t\\t\\t\\t<Id>4448148</Id>\\n\\t\\t\\t</Link>\\n        <Link>\\n\\t\\t\\t\\t<Id>4443736</Id>\\n\\t\\t\\t</Link>\\n        <Link>\\n\\t\\t\\t\\t<Id>4435734</Id>\\n\\t\\t\\t</Link>\\n        <Link>\\n\\t\\t\\t\\t<Id>4423606</Id>\\n\\t\\t\\t</Link>\\n        <Link>\\n\\t\\t\\t\\t<Id>4412282</Id>\\n\\t\\t\\t</Link>\\n        <Link>\\n\\t\\t\\t\\t<Id>4379073</Id>\\n\\t\\t\\t</Link>\\n        <Link>\\n\\t\\t\\t\\t<Id>4370721</Id>\\n\\t\\t\\t</Link>\\n        <Link>\\n\\t\\t\\t\\t<Id>4333915</Id>\\n\\t\\t\\t</Link>\\n        <Link>\\n\\t\\t\\t\\t<Id>4330530</Id>\\n\\t\\t\\t</Link>\\n        <Link>\\n\\t\\t\\t\\t<Id>4327859</Id>\\n\\t\\t\\t</Link>\\n        <Link>\\n\\t\\t\\t\\t<Id>4321981</Id>\\n\\t\\t\\t</Link>\\n        <Link>\\n\\t\\t\\t\\t<Id>4317028</Id>\\n\\t\\t\\t</Link>\\n        <Link>\\n\\t\\t\\t\\t<Id>4261509</Id>\\n\\t\\t\\t</Link>\\n        <Link>\\n\\t\\t\\t\\t<Id>4261240</Id>\\n\\t\\t\\t</Link>\\n        <Link>\\n\\t\\t\\t\\t<Id>4258658</Id>\\n\\t\\t\\t</Link>\\n        <Link>\\n\\t\\t\\t\\t<Id>4254633</Id>\\n\\t\\t\\t</Link>\\n        <Link>\\n\\t\\t\\t\\t<Id>4180193</Id>\\n\\t\\t\\t</Link>\\n        <Link>\\n\\t\\t\\t\\t<Id>4176915</Id>\\n\\t\\t\\t</Link>\\n        <Link>\\n\\t\\t\\t\\t<Id>4154666</Id>\\n\\t\\t\\t</Link>\\n        <Link>\\n\\t\\t\\t\\t<Id>4150742</Id>\\n\\t\\t\\t</Link>\\n        <Link>\\n\\t\\t\\t\\t<Id>4148874</Id>\\n\\t\\t\\t</Link>\\n        <Link>\\n\\t\\t\\t\\t<Id>4145399</Id>\\n\\t\\t\\t</Link>\\n        <Link>\\n\\t\\t\\t\\t<Id>4128075</Id>\\n\\t\\t\\t</Link>\\n        <Link>\\n\\t\\t\\t\\t<Id>4104030</Id>\\n\\t\\t\\t</Link>\\n        <Link>\\n\\t\\t\\t\\t<Id>4102923</Id>\\n\\t\\t\\t</Link>\\n        <Link>\\n\\t\\t\\t\\t<Id>4082760</Id>\\n\\t\\t\\t</Link>\\n        <Link>\\n\\t\\t\\t\\t<Id>4073282</Id>\\n\\t\\t\\t</Link>\\n        <Link>\\n\\t\\t\\t\\t<Id>4063995</Id>\\n\\t\\t\\t</Link>\\n        <Link>\\n\\t\\t\\t\\t<Id>4063195</Id>\\n\\t\\t\\t</Link>\\n        <Link>\\n\\t\\t\\t\\t<Id>4063074</Id>\\n\\t\\t\\t</Link>\\n        <Link>\\n\\t\\t\\t\\t<Id>4059258</Id>\\n\\t\\t\\t</Link>\\n        <Link>\\n\\t\\t\\t\\t<Id>4057926</Id>\\n\\t\\t\\t</Link>\\n        <Link>\\n\\t\\t\\t\\t<Id>4047354</Id>\\n\\t\\t\\t</Link>\\n        <Link>\\n\\t\\t\\t\\t<Id>4044516</Id>\\n\\t\\t\\t</Link>\\n        <Link>\\n\\t\\t\\t\\t<Id>4035236</Id>\\n\\t\\t\\t</Link>\\n        <Link>\\n\\t\\t\\t\\t<Id>4030698</Id>\\n\\t\\t\\t</Link>\\n        <Link>\\n\\t\\t\\t\\t<Id>4005017</Id>\\n\\t\\t\\t</Link>\\n        <Link>\\n\\t\\t\\t\\t<Id>3982321</Id>\\n\\t\\t\\t</Link>\\n        <Link>\\n\\t\\t\\t\\t<Id>3943742</Id>\\n\\t\\t\\t</Link>\\n        <Link>\\n\\t\\t\\t\\t<Id>3930942</Id>\\n\\t\\t\\t</Link>\\n        <Link>\\n\\t\\t\\t\\t<Id>3928468</Id>\\n\\t\\t\\t</Link>\\n        <Link>\\n\\t\\t\\t\\t<Id>3917938</Id>\\n\\t\\t\\t</Link>\\n        <Link>\\n\\t\\t\\t\\t<Id>3899882</Id>\\n\\t\\t\\t</Link>\\n        <Link>\\n\\t\\t\\t\\t<Id>3896203</Id>\\n\\t\\t\\t</Link>\\n        <Link>\\n\\t\\t\\t\\t<Id>3883893</Id>\\n\\t\\t\\t</Link>\\n        <Link>\\n\\t\\t\\t\\t<Id>3879572</Id>\\n\\t\\t\\t</Link>\\n        <Link>\\n\\t\\t\\t\\t<Id>3873329</Id>\\n\\t\\t\\t</Link>\\n        <Link>\\n\\t\\t\\t\\t<Id>3848851</Id>\\n\\t\\t\\t</Link>\\n        <Link>\\n\\t\\t\\t\\t<Id>3835174</Id>\\n\\t\\t\\t</Link>\\n        <Link>\\n\\t\\t\\t\\t<Id>3830597</Id>\\n\\t\\t\\t</Link>\\n        <Link>\\n\\t\\t\\t\\t<Id>3823269</Id>\\n\\t\\t\\t</Link>\\n        <Link>\\n\\t\\t\\t\\t<Id>3817212</Id>\\n\\t\\t\\t</Link>\\n        <Link>\\n\\t\\t\\t\\t<Id>3812991</Id>\\n\\t\\t\\t</Link>\\n        <Link>\\n\\t\\t\\t\\t<Id>3804457</Id>\\n\\t\\t\\t</Link>\\n        <Link>\\n\\t\\t\\t\\t<Id>3782363</Id>\\n\\t\\t\\t</Link>\\n        <Link>\\n\\t\\t\\t\\t<Id>3624465</Id>\\n\\t\\t\\t</Link>\\n        <Link>\\n\\t\\t\\t\\t<Id>3591653</Id>\\n\\t\\t\\t</Link>\\n        <Link>\\n\\t\\t\\t\\t<Id>3580451</Id>\\n\\t\\t\\t</Link>\\n        <Link>\\n\\t\\t\\t\\t<Id>3580056</Id>\\n\\t\\t\\t</Link>\\n        <Link>\\n\\t\\t\\t\\t<Id>3560214</Id>\\n\\t\\t\\t</Link>\\n        <Link>\\n\\t\\t\\t\\t<Id>3511851</Id>\\n\\t\\t\\t</Link>\\n        <Link>\\n\\t\\t\\t\\t<Id>3498077</Id>\\n\\t\\t\\t</Link>\\n        <Link>\\n\\t\\t\\t\\t<Id>3496552</Id>\\n\\t\\t\\t</Link>\\n        <Link>\\n\\t\\t\\t\\t<Id>3495063</Id>\\n\\t\\t\\t</Link>\\n        <Link>\\n\\t\\t\\t\\t<Id>3469598</Id>\\n\\t\\t\\t</Link>\\n        <Link>\\n\\t\\t\\t\\t<Id>3433256</Id>\\n\\t\\t\\t</Link>\\n        <Link>\\n\\t\\t\\t\\t<Id>3422911</Id>\\n\\t\\t\\t</Link>\\n        <Link>\\n\\t\\t\\t\\t<Id>3355967</Id>\\n\\t\\t\\t</Link>\\n        <Link>\\n\\t\\t\\t\\t<Id>3351299</Id>\\n\\t\\t\\t</Link>\\n        <Link>\\n\\t\\t\\t\\t<Id>3340916</Id>\\n\\t\\t\\t</Link>\\n        <Link>\\n\\t\\t\\t\\t<Id>3339323</Id>\\n\\t\\t\\t</Link>\\n        <Link>\\n\\t\\t\\t\\t<Id>3330238</Id>\\n\\t\\t\\t</Link>\\n        <Link>\\n\\t\\t\\t\\t<Id>3235036</Id>\\n\\t\\t\\t</Link>\\n      \\n    </LinkSetDb>\\n  </LinkSet>\\n</eLinkResult>\\n'\n"
          ],
          "name": "stdout"
        }
      ]
    },
    {
      "cell_type": "code",
      "metadata": {
        "colab": {
          "base_uri": "https://localhost:8080/",
          "height": 282
        },
        "id": "7P1Ya-4huDEc",
        "outputId": "94526cfc-2fd2-45cd-cb7c-c75b2785bd9e"
      },
      "source": [
        "dict_data = xmltodict.parse(links.read())"
      ],
      "execution_count": null,
      "outputs": [
        {
          "output_type": "error",
          "ename": "ExpatError",
          "evalue": "ignored",
          "traceback": [
            "\u001b[0;31m---------------------------------------------------------------------------\u001b[0m",
            "\u001b[0;31mExpatError\u001b[0m                                Traceback (most recent call last)",
            "\u001b[0;32m<ipython-input-136-a25a497171c6>\u001b[0m in \u001b[0;36m<module>\u001b[0;34m()\u001b[0m\n\u001b[0;32m----> 1\u001b[0;31m \u001b[0mdict_data\u001b[0m \u001b[0;34m=\u001b[0m \u001b[0mxmltodict\u001b[0m\u001b[0;34m.\u001b[0m\u001b[0mparse\u001b[0m\u001b[0;34m(\u001b[0m\u001b[0mlinks\u001b[0m\u001b[0;34m.\u001b[0m\u001b[0mread\u001b[0m\u001b[0;34m(\u001b[0m\u001b[0;34m)\u001b[0m\u001b[0;34m)\u001b[0m\u001b[0;34m\u001b[0m\u001b[0;34m\u001b[0m\u001b[0m\n\u001b[0m",
            "\u001b[0;32m/usr/local/lib/python3.7/dist-packages/xmltodict.py\u001b[0m in \u001b[0;36mparse\u001b[0;34m(xml_input, encoding, expat, process_namespaces, namespace_separator, disable_entities, **kwargs)\u001b[0m\n\u001b[1;32m    325\u001b[0m         \u001b[0mparser\u001b[0m\u001b[0;34m.\u001b[0m\u001b[0mParseFile\u001b[0m\u001b[0;34m(\u001b[0m\u001b[0mxml_input\u001b[0m\u001b[0;34m)\u001b[0m\u001b[0;34m\u001b[0m\u001b[0;34m\u001b[0m\u001b[0m\n\u001b[1;32m    326\u001b[0m     \u001b[0;32melse\u001b[0m\u001b[0;34m:\u001b[0m\u001b[0;34m\u001b[0m\u001b[0;34m\u001b[0m\u001b[0m\n\u001b[0;32m--> 327\u001b[0;31m         \u001b[0mparser\u001b[0m\u001b[0;34m.\u001b[0m\u001b[0mParse\u001b[0m\u001b[0;34m(\u001b[0m\u001b[0mxml_input\u001b[0m\u001b[0;34m,\u001b[0m \u001b[0;32mTrue\u001b[0m\u001b[0;34m)\u001b[0m\u001b[0;34m\u001b[0m\u001b[0;34m\u001b[0m\u001b[0m\n\u001b[0m\u001b[1;32m    328\u001b[0m     \u001b[0;32mreturn\u001b[0m \u001b[0mhandler\u001b[0m\u001b[0;34m.\u001b[0m\u001b[0mitem\u001b[0m\u001b[0;34m\u001b[0m\u001b[0;34m\u001b[0m\u001b[0m\n\u001b[1;32m    329\u001b[0m \u001b[0;34m\u001b[0m\u001b[0m\n",
            "\u001b[0;31mExpatError\u001b[0m: no element found: line 1, column 0"
          ]
        }
      ]
    },
    {
      "cell_type": "code",
      "metadata": {
        "colab": {
          "base_uri": "https://localhost:8080/"
        },
        "id": "Nc83n6_Xuo8q",
        "outputId": "1887425c-561f-4e23-f906-83c6dec0e19f"
      },
      "source": [
        "handle = Entrez.einfo()\n",
        "result = handle.read()\n",
        "handle.close()\n",
        "print(result)"
      ],
      "execution_count": null,
      "outputs": [
        {
          "output_type": "stream",
          "text": [
            "b'<?xml version=\"1.0\" encoding=\"UTF-8\" ?>\\n<!DOCTYPE eInfoResult PUBLIC \"-//NLM//DTD einfo 20190110//EN\" \"https://eutils.ncbi.nlm.nih.gov/eutils/dtd/20190110/einfo.dtd\">\\n<eInfoResult>\\n<DbList>\\n\\n\\t<DbName>pubmed</DbName>\\n\\t<DbName>protein</DbName>\\n\\t<DbName>nuccore</DbName>\\n\\t<DbName>ipg</DbName>\\n\\t<DbName>nucleotide</DbName>\\n\\t<DbName>structure</DbName>\\n\\t<DbName>genome</DbName>\\n\\t<DbName>annotinfo</DbName>\\n\\t<DbName>assembly</DbName>\\n\\t<DbName>bioproject</DbName>\\n\\t<DbName>biosample</DbName>\\n\\t<DbName>blastdbinfo</DbName>\\n\\t<DbName>books</DbName>\\n\\t<DbName>cdd</DbName>\\n\\t<DbName>clinvar</DbName>\\n\\t<DbName>gap</DbName>\\n\\t<DbName>gapplus</DbName>\\n\\t<DbName>grasp</DbName>\\n\\t<DbName>dbvar</DbName>\\n\\t<DbName>gene</DbName>\\n\\t<DbName>gds</DbName>\\n\\t<DbName>geoprofiles</DbName>\\n\\t<DbName>homologene</DbName>\\n\\t<DbName>medgen</DbName>\\n\\t<DbName>mesh</DbName>\\n\\t<DbName>ncbisearch</DbName>\\n\\t<DbName>nlmcatalog</DbName>\\n\\t<DbName>omim</DbName>\\n\\t<DbName>orgtrack</DbName>\\n\\t<DbName>pmc</DbName>\\n\\t<DbName>popset</DbName>\\n\\t<DbName>proteinclusters</DbName>\\n\\t<DbName>pcassay</DbName>\\n\\t<DbName>protfam</DbName>\\n\\t<DbName>biosystems</DbName>\\n\\t<DbName>pccompound</DbName>\\n\\t<DbName>pcsubstance</DbName>\\n\\t<DbName>seqannot</DbName>\\n\\t<DbName>snp</DbName>\\n\\t<DbName>sra</DbName>\\n\\t<DbName>taxonomy</DbName>\\n\\t<DbName>biocollections</DbName>\\n\\t<DbName>gtr</DbName>\\n</DbList>\\n\\n</eInfoResult>\\n'\n"
          ],
          "name": "stdout"
        }
      ]
    },
    {
      "cell_type": "code",
      "metadata": {
        "colab": {
          "base_uri": "https://localhost:8080/"
        },
        "id": "c-UAwsYfvBYI",
        "outputId": "32789fed-f40f-432c-da6a-2117c7d23055"
      },
      "source": [
        "# https://biopython.readthedocs.io/en/latest/chapter_entrez.html\n",
        "from Bio import Entrez\n",
        "handle = Entrez.einfo()\n",
        "record = Entrez.read(handle)\n",
        "print(record)"
      ],
      "execution_count": null,
      "outputs": [
        {
          "output_type": "stream",
          "text": [
            "{'DbList': ['pubmed', 'protein', 'nuccore', 'ipg', 'nucleotide', 'structure', 'genome', 'annotinfo', 'assembly', 'bioproject', 'biosample', 'blastdbinfo', 'books', 'cdd', 'clinvar', 'gap', 'gapplus', 'grasp', 'dbvar', 'gene', 'gds', 'geoprofiles', 'homologene', 'medgen', 'mesh', 'ncbisearch', 'nlmcatalog', 'omim', 'orgtrack', 'pmc', 'popset', 'proteinclusters', 'pcassay', 'protfam', 'biosystems', 'pccompound', 'pcsubstance', 'seqannot', 'snp', 'sra', 'taxonomy', 'biocollections', 'gtr']}\n"
          ],
          "name": "stdout"
        }
      ]
    },
    {
      "cell_type": "code",
      "metadata": {
        "colab": {
          "base_uri": "https://localhost:8080/"
        },
        "id": "356aIFOqvVla",
        "outputId": "d0b178c7-2f10-4191-8094-75eaff19b3dd"
      },
      "source": [
        "record.keys()"
      ],
      "execution_count": null,
      "outputs": [
        {
          "output_type": "execute_result",
          "data": {
            "text/plain": [
              "dict_keys(['DbList'])"
            ]
          },
          "metadata": {
            "tags": []
          },
          "execution_count": 144
        }
      ]
    },
    {
      "cell_type": "code",
      "metadata": {
        "colab": {
          "base_uri": "https://localhost:8080/"
        },
        "id": "haHNQ7livaEa",
        "outputId": "bc9bb46c-e169-4b4f-ae36-6d4dd6daff18"
      },
      "source": [
        "record[\"DbList\"]"
      ],
      "execution_count": null,
      "outputs": [
        {
          "output_type": "execute_result",
          "data": {
            "text/plain": [
              "['pubmed', 'protein', 'nuccore', 'ipg', 'nucleotide', 'structure', 'genome', 'annotinfo', 'assembly', 'bioproject', 'biosample', 'blastdbinfo', 'books', 'cdd', 'clinvar', 'gap', 'gapplus', 'grasp', 'dbvar', 'gene', 'gds', 'geoprofiles', 'homologene', 'medgen', 'mesh', 'ncbisearch', 'nlmcatalog', 'omim', 'orgtrack', 'pmc', 'popset', 'proteinclusters', 'pcassay', 'protfam', 'biosystems', 'pccompound', 'pcsubstance', 'seqannot', 'snp', 'sra', 'taxonomy', 'biocollections', 'gtr']"
            ]
          },
          "metadata": {
            "tags": []
          },
          "execution_count": 145
        }
      ]
    },
    {
      "cell_type": "code",
      "metadata": {
        "colab": {
          "base_uri": "https://localhost:8080/"
        },
        "id": "zcy0uXasvugX",
        "outputId": "af75c3e0-45a3-4f89-85c3-c4a0f01aa686"
      },
      "source": [
        "handle = Entrez.esearch(db=\"pubmed\", term=\"nhsx[affiliation]\")\n",
        "record = Entrez.read(handle)\n",
        "record[\"Count\"]\n",
        "record[\"IdList\"]\n",
        "record.keys()\n",
        "\n",
        "for id in record[\"IdList\"]:\n",
        "  print(id)"
      ],
      "execution_count": null,
      "outputs": [
        {
          "output_type": "stream",
          "text": [
            "33094226\n",
            "32702587\n",
            "32672131\n",
            "32616598\n",
            "32010451\n"
          ],
          "name": "stdout"
        }
      ]
    },
    {
      "cell_type": "code",
      "metadata": {
        "colab": {
          "base_uri": "https://localhost:8080/"
        },
        "id": "X5tKb_U-yCIf",
        "outputId": "c2ab553c-5200-44c8-d675-233eb47f98b7"
      },
      "source": [
        "#https://biopython.readthedocs.io/en/latest/chapter_entrez.html#sec-elink-citations\n",
        "from Bio import Entrez\n",
        "Entrez.email = \"martina.fonseca@nhsx.nhs.uk\"  # Always tell NCBI who you are\n",
        "pmid = \"32672131\"\n",
        "results = Entrez.read(Entrez.elink(dbfrom=\"pubmed\", db=\"pmc\",LinkName=\"pubmed_pmc_refs\", id=pmid))\n",
        "pmc_ids = [cell[\"Id\"] for cell in results[0][\"LinkSetDb\"][0][\"Link\"]]\n",
        "print(pmc_ids)\n",
        "print(results[0]['LinkSetDb'][0][\"Link\"])\n",
        "print(len(pmc_ids))"
      ],
      "execution_count": null,
      "outputs": [
        {
          "output_type": "stream",
          "text": [
            "['7754812']\n",
            "[{'Id': '7754812'}]\n",
            "1\n"
          ],
          "name": "stdout"
        }
      ]
    },
    {
      "cell_type": "code",
      "metadata": {
        "colab": {
          "base_uri": "https://localhost:8080/"
        },
        "id": "qF35CuFSy-cB",
        "outputId": "7c9ffc0c-cce2-4398-da41-12e82f77ee4a"
      },
      "source": [
        "results2 = Entrez.read(Entrez.elink(dbfrom=\"pmc\", db=\"pubmed\", LinkName=\"pmc_pubmed\",id=\",\".join(pmc_ids)))\n",
        "pubmed_ids = [link[\"Id\"] for link in results2[0][\"LinkSetDb\"][0][\"Link\"]]\n",
        "pubmed_ids\n",
        "print(pubmed_ids)\n",
        "print(len(pubmed_ids))"
      ],
      "execution_count": null,
      "outputs": [
        {
          "output_type": "stream",
          "text": [
            "['33054587']\n",
            "1\n"
          ],
          "name": "stdout"
        }
      ]
    },
    {
      "cell_type": "code",
      "metadata": {
        "id": "HatyfKZjzFNA"
      },
      "source": [
        ""
      ],
      "execution_count": null,
      "outputs": []
    },
    {
      "cell_type": "markdown",
      "metadata": {
        "id": "Zjjps6B9yBy6"
      },
      "source": [
        ""
      ]
    }
  ]
}